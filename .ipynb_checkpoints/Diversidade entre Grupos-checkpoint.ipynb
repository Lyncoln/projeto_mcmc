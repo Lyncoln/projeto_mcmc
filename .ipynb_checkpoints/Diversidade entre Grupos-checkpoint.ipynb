{
 "cells": [
  {
   "cell_type": "code",
   "execution_count": 432,
   "id": "42b76a7b",
   "metadata": {},
   "outputs": [],
   "source": [
    "import pandas as pd\n",
    "import numpy as np\n",
    "import random\n",
    "import itertools"
   ]
  },
  {
   "cell_type": "code",
   "execution_count": 477,
   "id": "bf373f05",
   "metadata": {},
   "outputs": [],
   "source": [
    "#path = 'C:/Users/Lyncoln/OneDrive/pos_UFRJ/mcmc/projeto_2/Trabalho-Metaheuristica-master/Instancias/toy.in'\n",
    "#path = 'C:/Users/Lyncoln/OneDrive/pos_UFRJ/mcmc/projeto_2/Trabalho-Metaheuristica-master/Instancias/960/Geo_n960_ss_01.in'\n",
    "path = 'C:/Users/Lyncoln/OneDrive/pos_UFRJ/mcmc/projeto_2/Trabalho-Metaheuristica-master/Instancias/toy2.in'"
   ]
  },
  {
   "cell_type": "code",
   "execution_count": 478,
   "id": "b79c6571",
   "metadata": {},
   "outputs": [],
   "source": [
    "def read_objects(file):\n",
    "    aux = True\n",
    "    data = []\n",
    "    for line in open(file,'r'):\n",
    "        if(aux):\n",
    "            aux = False\n",
    "            first_line = list(map(lambda x: float(x), (line.replace(' \\n',\"\").split(\" \"))))\n",
    "        else:\n",
    "            data.append(list(map(lambda x: float(x), ((line.replace('\\n','').split(' '))))))\n",
    "            \n",
    "    return(first_line, data)"
   ]
  },
  {
   "cell_type": "code",
   "execution_count": 479,
   "id": "88e3f38c",
   "metadata": {},
   "outputs": [],
   "source": [
    "first_line, data = read_objects(path)"
   ]
  },
  {
   "cell_type": "code",
   "execution_count": 480,
   "id": "4629a054",
   "metadata": {},
   "outputs": [],
   "source": [
    "n = first_line[0]\n",
    "g = first_line[1]"
   ]
  },
  {
   "cell_type": "code",
   "execution_count": 481,
   "id": "e178562d",
   "metadata": {},
   "outputs": [],
   "source": [
    "def cost_matrix(dados,n):\n",
    "    n = int(n)\n",
    "    matrix = np.zeros((n,n))\n",
    "    for index in data:\n",
    "        i = int(index[0])\n",
    "        j = int(index[1])\n",
    "        matrix[i][j] = index[2]\n",
    "        matrix[j][i] = index[2]\n",
    "    \n",
    "    return(matrix)"
   ]
  },
  {
   "cell_type": "code",
   "execution_count": 482,
   "id": "dc0a3006",
   "metadata": {},
   "outputs": [],
   "source": [
    "matrix = cost_matrix(data, n)"
   ]
  },
  {
   "cell_type": "code",
   "execution_count": 483,
   "id": "af66a4ff",
   "metadata": {},
   "outputs": [],
   "source": [
    "def initial_state(n,g):\n",
    "    qtd_ind = int(n/g)\n",
    "    state = []\n",
    "    cont = 0\n",
    "    \n",
    "    for j in range(int(g)):\n",
    "        for i in range(qtd_ind):\n",
    "            state.append(j)\n",
    "    #random.shuffle(state)            \n",
    "    return(state)"
   ]
  },
  {
   "cell_type": "code",
   "execution_count": 683,
   "id": "b7499c2c",
   "metadata": {},
   "outputs": [
    {
     "data": {
      "text/plain": [
       "[0, 1, 1, 0, 0, 1]"
      ]
     },
     "execution_count": 683,
     "metadata": {},
     "output_type": "execute_result"
    }
   ],
   "source": [
    "state = initial_state(n,g)\n",
    "random.shuffle(state)\n",
    "state"
   ]
  },
  {
   "cell_type": "code",
   "execution_count": 515,
   "id": "6ee8a354",
   "metadata": {},
   "outputs": [],
   "source": [
    "def evaluete_group(cost, state):\n",
    "    groups = list(set(state))\n",
    "    sums = 0\n",
    "    for i in groups:\n",
    "        for j in np.where(np.array(state) == i):\n",
    "            for element in list(itertools.combinations(j,2)):\n",
    "                sums += cost[element[0]][element[1]]\n",
    "                print(element)\n",
    "            \n",
    "    return(sums)"
   ]
  },
  {
   "cell_type": "code",
   "execution_count": 511,
   "id": "f4897f6b",
   "metadata": {},
   "outputs": [
    {
     "name": "stdout",
     "output_type": "stream",
     "text": [
      "(1, 4)\n",
      "(1, 5)\n",
      "(4, 5)\n",
      "(0, 2)\n",
      "(0, 3)\n",
      "(2, 3)\n"
     ]
    },
    {
     "data": {
      "text/plain": [
       "272.0"
      ]
     },
     "execution_count": 511,
     "metadata": {},
     "output_type": "execute_result"
    }
   ],
   "source": [
    "evaluete_group(matrix,state)"
   ]
  },
  {
   "cell_type": "code",
   "execution_count": 647,
   "id": "b5ed35aa",
   "metadata": {},
   "outputs": [],
   "source": [
    "def generate_neighbors(state):\n",
    "    groups = list(set(state))\n",
    "    groups_change = random.sample(groups,2)\n",
    "    \n",
    "    index_choose = []\n",
    "    for i in groups_change:\n",
    "        index_choose.append(np.random.choice(np.where(np.array(state) == i)[0],1)[0])\n",
    "    \n",
    "    aux = state[index_choose[0]]\n",
    "    state[index_choose[0]] = state[index_choose[1]]\n",
    "    state[index_choose[1]] = aux\n",
    "    \n",
    "    return(state)\n",
    "    "
   ]
  },
  {
   "cell_type": "code",
   "execution_count": 544,
   "id": "16efbbe0",
   "metadata": {},
   "outputs": [
    {
     "data": {
      "text/plain": [
       "[1, 1, 1, 0, 0, 0]"
      ]
     },
     "execution_count": 544,
     "metadata": {},
     "output_type": "execute_result"
    }
   ],
   "source": [
    "state"
   ]
  },
  {
   "cell_type": "code",
   "execution_count": 684,
   "id": "c1c972e2",
   "metadata": {},
   "outputs": [
    {
     "data": {
      "text/plain": [
       "[0, 1, 0, 1, 0, 1]"
      ]
     },
     "execution_count": 684,
     "metadata": {},
     "output_type": "execute_result"
    }
   ],
   "source": [
    "generate_neighbors(state)"
   ]
  },
  {
   "cell_type": "code",
   "execution_count": 613,
   "id": "8fb01779",
   "metadata": {
    "scrolled": true
   },
   "outputs": [
    {
     "ename": "ValueError",
     "evalue": "a must be 1-dimensional",
     "output_type": "error",
     "traceback": [
      "\u001b[1;31m---------------------------------------------------------------------------\u001b[0m",
      "\u001b[1;31mValueError\u001b[0m                                Traceback (most recent call last)",
      "\u001b[1;32m~\\AppData\\Local\\Temp/ipykernel_15320/4079859023.py\u001b[0m in \u001b[0;36m<module>\u001b[1;34m\u001b[0m\n\u001b[1;32m----> 1\u001b[1;33m \u001b[0mnp\u001b[0m\u001b[1;33m.\u001b[0m\u001b[0mrandom\u001b[0m\u001b[1;33m.\u001b[0m\u001b[0mchoice\u001b[0m\u001b[1;33m(\u001b[0m\u001b[0mnp\u001b[0m\u001b[1;33m.\u001b[0m\u001b[0mwhere\u001b[0m\u001b[1;33m(\u001b[0m\u001b[0mnp\u001b[0m\u001b[1;33m.\u001b[0m\u001b[0marray\u001b[0m\u001b[1;33m(\u001b[0m\u001b[0mstate\u001b[0m\u001b[1;33m)\u001b[0m \u001b[1;33m==\u001b[0m \u001b[1;36m1\u001b[0m\u001b[1;33m)\u001b[0m\u001b[1;33m,\u001b[0m\u001b[1;36m1\u001b[0m\u001b[1;33m)\u001b[0m\u001b[1;33m\u001b[0m\u001b[1;33m\u001b[0m\u001b[0m\n\u001b[0m",
      "\u001b[1;32mmtrand.pyx\u001b[0m in \u001b[0;36mnumpy.random.mtrand.RandomState.choice\u001b[1;34m()\u001b[0m\n",
      "\u001b[1;31mValueError\u001b[0m: a must be 1-dimensional"
     ]
    }
   ],
   "source": [
    "np.random.choice(np.where(np.array(state) == 1),1)"
   ]
  },
  {
   "cell_type": "code",
   "execution_count": 632,
   "id": "0d1cd3aa",
   "metadata": {},
   "outputs": [
    {
     "data": {
      "text/plain": [
       "array([1], dtype=int64)"
      ]
     },
     "execution_count": 632,
     "metadata": {},
     "output_type": "execute_result"
    }
   ],
   "source": [
    "np.random.choice(x[0], 1)"
   ]
  }
 ],
 "metadata": {
  "kernelspec": {
   "display_name": "Python 3 (ipykernel)",
   "language": "python",
   "name": "python3"
  },
  "language_info": {
   "codemirror_mode": {
    "name": "ipython",
    "version": 3
   },
   "file_extension": ".py",
   "mimetype": "text/x-python",
   "name": "python",
   "nbconvert_exporter": "python",
   "pygments_lexer": "ipython3",
   "version": "3.9.6"
  }
 },
 "nbformat": 4,
 "nbformat_minor": 5
}
