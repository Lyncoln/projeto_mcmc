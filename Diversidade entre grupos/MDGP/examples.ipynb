{
 "cells": [
  {
   "cell_type": "code",
   "execution_count": 1,
   "metadata": {},
   "outputs": [],
   "source": [
    "from data.data_processing import Students\n",
    "from mdgp import MDGP\n",
    "import pandas as pd"
   ]
  },
  {
   "cell_type": "code",
   "execution_count": 5,
   "metadata": {},
   "outputs": [
    {
     "data": {
      "text/plain": [
       "27"
      ]
     },
     "execution_count": 5,
     "metadata": {},
     "output_type": "execute_result"
    }
   ],
   "source": [
    "# Grupos de alunos\n",
    "students = Students()\n",
    "\n",
    "# olhar turmas disponíveis\n",
    "std_classes = students.get_available_classes()\n",
    "\n",
    "# selecionar uma para usar no MDGP\n",
    "std_class = std_classes[0]\n",
    "\n",
    "students_in_class, distance_matrix = students.get_name_distance_matrix(std_class)\n",
    "\n",
    "# dar uma olhada se da pra formar grupos\n",
    "students_in_class.shape[0]\n"
   ]
  },
  {
   "cell_type": "code",
   "execution_count": 6,
   "metadata": {},
   "outputs": [],
   "source": [
    "# criar instância do MDGP para resolver o problema passando a matriz de distâncias e o número de grupos\n",
    "mdgp = MDGP(distance_matrix, 9)\n",
    "\n",
    "# obter agenda de resfriamento, tem as funções alfa (1a a ser implementada) e as sugeridas nos slides: exponencial, linear e logaritmica\n",
    "schedules = [\n",
    "    {'cooling_function': 'alpha', 'cooling_schedule': mdgp.alpha_schedule(10000, 0.0001, 100, 0.9)},\n",
    "    {'cooling_function': 'exponential', 'cooling_schedule': mdgp.exponential_schedule(10000, 0.0001, 0.5)},\n",
    "    {'cooling_function': 'linear', 'cooling_schedule': mdgp.linear_schedule(10000, 0.0001, 0.9)},\n",
    "    {'cooling_function': 'log', 'cooling_schedule': mdgp.log_schedule(0.0001, 0.001, 1000)}\n",
    "]\n",
    "\n",
    "# modo de comparar as funções de resfriamento\n",
    "for schedule_data in schedules:\n",
    "    best_cost, best = mdgp.simulated_annealing(schedule_data['cooling_schedule'])\n",
    "    schedule_data['best_cost'] = best_cost\n",
    "    schedule_data['best_group_division'] = best\n"
   ]
  },
  {
   "cell_type": "code",
   "execution_count": 7,
   "metadata": {},
   "outputs": [
    {
     "data": {
      "text/html": [
       "<div>\n",
       "<style scoped>\n",
       "    .dataframe tbody tr th:only-of-type {\n",
       "        vertical-align: middle;\n",
       "    }\n",
       "\n",
       "    .dataframe tbody tr th {\n",
       "        vertical-align: top;\n",
       "    }\n",
       "\n",
       "    .dataframe thead th {\n",
       "        text-align: right;\n",
       "    }\n",
       "</style>\n",
       "<table border=\"1\" class=\"dataframe\">\n",
       "  <thead>\n",
       "    <tr style=\"text-align: right;\">\n",
       "      <th></th>\n",
       "      <th>cooling_function</th>\n",
       "      <th>cooling_schedule</th>\n",
       "      <th>best_cost</th>\n",
       "      <th>best_group_division</th>\n",
       "    </tr>\n",
       "  </thead>\n",
       "  <tbody>\n",
       "    <tr>\n",
       "      <th>0</th>\n",
       "      <td>alpha</td>\n",
       "      <td>[10000, 10000, 10000, 10000, 10000, 10000, 100...</td>\n",
       "      <td>707</td>\n",
       "      <td>[0, 6, 2, 8, 1, 5, 6, 1, 7, 5, 8, 7, 3, 7, 3, ...</td>\n",
       "    </tr>\n",
       "    <tr>\n",
       "      <th>1</th>\n",
       "      <td>exponential</td>\n",
       "      <td>[10000, 5000.0, 2500.0, 1250.0, 625.0, 312.5, ...</td>\n",
       "      <td>663</td>\n",
       "      <td>[5, 6, 8, 4, 4, 7, 4, 3, 0, 3, 7, 5, 6, 5, 0, ...</td>\n",
       "    </tr>\n",
       "    <tr>\n",
       "      <th>2</th>\n",
       "      <td>linear</td>\n",
       "      <td>[10000, 9999.1, 9998.2, 9997.3, 9996.4, 9995.5...</td>\n",
       "      <td>686</td>\n",
       "      <td>[6, 7, 3, 4, 4, 1, 7, 5, 4, 1, 5, 0, 2, 6, 3, ...</td>\n",
       "    </tr>\n",
       "    <tr>\n",
       "      <th>3</th>\n",
       "      <td>log</td>\n",
       "      <td>[0.00014474388394765367, 0.0001447438839476536...</td>\n",
       "      <td>707</td>\n",
       "      <td>[2, 4, 6, 7, 7, 3, 8, 2, 5, 1, 8, 4, 0, 4, 0, ...</td>\n",
       "    </tr>\n",
       "  </tbody>\n",
       "</table>\n",
       "</div>"
      ],
      "text/plain": [
       "  cooling_function                                   cooling_schedule  \\\n",
       "0            alpha  [10000, 10000, 10000, 10000, 10000, 10000, 100...   \n",
       "1      exponential  [10000, 5000.0, 2500.0, 1250.0, 625.0, 312.5, ...   \n",
       "2           linear  [10000, 9999.1, 9998.2, 9997.3, 9996.4, 9995.5...   \n",
       "3              log  [0.00014474388394765367, 0.0001447438839476536...   \n",
       "\n",
       "   best_cost                                best_group_division  \n",
       "0        707  [0, 6, 2, 8, 1, 5, 6, 1, 7, 5, 8, 7, 3, 7, 3, ...  \n",
       "1        663  [5, 6, 8, 4, 4, 7, 4, 3, 0, 3, 7, 5, 6, 5, 0, ...  \n",
       "2        686  [6, 7, 3, 4, 4, 1, 7, 5, 4, 1, 5, 0, 2, 6, 3, ...  \n",
       "3        707  [2, 4, 6, 7, 7, 3, 8, 2, 5, 1, 8, 4, 0, 4, 0, ...  "
      ]
     },
     "execution_count": 7,
     "metadata": {},
     "output_type": "execute_result"
    }
   ],
   "source": [
    "# comparando os resultados\n",
    "results = pd.DataFrame(schedules)\n",
    "results"
   ]
  },
  {
   "cell_type": "code",
   "execution_count": null,
   "metadata": {},
   "outputs": [],
   "source": [
    "# se quiser monitorar a convergência, fazer um plot dinâmico etc, usar o iterator do simulated annealing, por exemplo:\n",
    "# usar o iterator faz ficar bem mais lento, podemos colocar pra retornar uma lista na função, mas quero deixar o iterator pra fazer plot dinâmico\n",
    "\n",
    "for T, state_cost, state, best_cost, best in mdgp.simulated_annealing_iterator(schedules[0]['cooling_schedule']):\n",
    "        print(\"---------------------------------\")\n",
    "        print(f'temperatura atual {T}')\n",
    "        print(f'custo do estado atual {state_cost}')\n",
    "        print(f'custo do melhor estado {best_cost}')\n",
    "        print(\"---------------------------------\")"
   ]
  }
 ],
 "metadata": {
  "interpreter": {
   "hash": "31f2aee4e71d21fbe5cf8b01ff0e069b9275f58929596ceb00d14d90e3e16cd6"
  },
  "kernelspec": {
   "display_name": "Python 3 (ipykernel)",
   "language": "python",
   "name": "python3"
  },
  "language_info": {
   "codemirror_mode": {
    "name": "ipython",
    "version": 3
   },
   "file_extension": ".py",
   "mimetype": "text/x-python",
   "name": "python",
   "nbconvert_exporter": "python",
   "pygments_lexer": "ipython3",
   "version": "3.9.6"
  }
 },
 "nbformat": 4,
 "nbformat_minor": 2
}
