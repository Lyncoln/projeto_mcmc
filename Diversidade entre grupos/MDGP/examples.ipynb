{
 "cells": [
  {
   "cell_type": "code",
   "execution_count": 1,
   "source": [
    "from data.data_processing import Students\r\n",
    "from mdgp import MDGP\r\n",
    "import pandas as pd"
   ],
   "outputs": [],
   "metadata": {}
  },
  {
   "cell_type": "code",
   "execution_count": 2,
   "source": [
    "# Grupos de alunos\r\n",
    "students = Students()\r\n",
    "\r\n",
    "# olhar turmas disponíveis\r\n",
    "std_classes = students.get_available_classes()\r\n",
    "\r\n",
    "# selecionar uma para usar no MDGP\r\n",
    "std_class = std_classes[0]\r\n",
    "\r\n",
    "students_in_class, distance_matrix = students.get_name_distance_matrix(std_class)\r\n",
    "\r\n",
    "# dar uma olhada se da pra formar grupos\r\n",
    "students_in_class.shape[0]\r\n"
   ],
   "outputs": [
    {
     "output_type": "execute_result",
     "data": {
      "text/plain": [
       "27"
      ]
     },
     "metadata": {},
     "execution_count": 2
    }
   ],
   "metadata": {}
  },
  {
   "cell_type": "code",
   "execution_count": 3,
   "source": [
    "# criar instância do MDGP para resolver o problema passando a matriz de distâncias e o número de grupos\r\n",
    "mdgp = MDGP(distance_matrix, 9)\r\n",
    "\r\n",
    "# obter agenda de resfriamento, tem as funções alfa (1a a ser implementada) e as sugeridas nos slides: exponencial, linear e logaritmica\r\n",
    "schedules = [\r\n",
    "    {'cooling_function': 'alpha', 'cooling_schedule': mdgp.alpha_schedule(10000, 0.0001, 100, 0.9)}]\r\n",
    "#     {'cooling_function': 'exponential', 'cooling_schedule': mdgp.exponential_schedule(10000, 0.0001, 0.5)},\r\n",
    "#     {'cooling_function': 'linear', 'cooling_schedule': mdgp.linear_schedule(10000, 0.0001, 0.9)},\r\n",
    "#     {'cooling_function': 'log', 'cooling_schedule': mdgp.log_schedule(0.0001, 0.001, 1000)}\r\n",
    "# \r\n",
    "\r\n",
    "\r\n"
   ],
   "outputs": [],
   "metadata": {}
  },
  {
   "cell_type": "code",
   "execution_count": 5,
   "source": [
    "%%time\r\n",
    "# modo de comparar as funções de resfriamento\r\n",
    "for schedule_data in schedules:\r\n",
    "    best_cost, best = mdgp.simulated_annealing(schedule_data['cooling_schedule'])\r\n",
    "    schedule_data['best_cost'] = best_cost\r\n",
    "    schedule_data['best_group_division'] = best"
   ],
   "outputs": [
    {
     "output_type": "stream",
     "name": "stdout",
     "text": [
      "Wall time: 8.98 s\n"
     ]
    }
   ],
   "metadata": {}
  },
  {
   "cell_type": "code",
   "execution_count": 4,
   "source": [
    "# comparando os resultados\r\n",
    "results = pd.DataFrame(schedules)\r\n",
    "results"
   ],
   "outputs": [
    {
     "output_type": "execute_result",
     "data": {
      "text/plain": [
       "  cooling_function                                   cooling_schedule  \\\n",
       "0            alpha  [10000, 10000, 10000, 10000, 10000, 10000, 100...   \n",
       "\n",
       "   best_cost                                best_group_division  \n",
       "0        705  [8, 4, 1, 5, 3, 2, 1, 0, 3, 2, 6, 3, 4, 6, 5, ...  "
      ],
      "text/html": [
       "<div>\n",
       "<style scoped>\n",
       "    .dataframe tbody tr th:only-of-type {\n",
       "        vertical-align: middle;\n",
       "    }\n",
       "\n",
       "    .dataframe tbody tr th {\n",
       "        vertical-align: top;\n",
       "    }\n",
       "\n",
       "    .dataframe thead th {\n",
       "        text-align: right;\n",
       "    }\n",
       "</style>\n",
       "<table border=\"1\" class=\"dataframe\">\n",
       "  <thead>\n",
       "    <tr style=\"text-align: right;\">\n",
       "      <th></th>\n",
       "      <th>cooling_function</th>\n",
       "      <th>cooling_schedule</th>\n",
       "      <th>best_cost</th>\n",
       "      <th>best_group_division</th>\n",
       "    </tr>\n",
       "  </thead>\n",
       "  <tbody>\n",
       "    <tr>\n",
       "      <th>0</th>\n",
       "      <td>alpha</td>\n",
       "      <td>[10000, 10000, 10000, 10000, 10000, 10000, 100...</td>\n",
       "      <td>705</td>\n",
       "      <td>[8, 4, 1, 5, 3, 2, 1, 0, 3, 2, 6, 3, 4, 6, 5, ...</td>\n",
       "    </tr>\n",
       "  </tbody>\n",
       "</table>\n",
       "</div>"
      ]
     },
     "metadata": {},
     "execution_count": 4
    }
   ],
   "metadata": {}
  },
  {
   "cell_type": "code",
   "execution_count": 9,
   "source": [
    "# testando ser iterator (mais rápido)\r\n",
    "%%time\r\n",
    "for schedule_data in schedules:\r\n",
    "    best_cost, best = mdgp.simulated_annealing_with_exec_log(schedule_data['cooling_schedule'], 'teste.csv')"
   ],
   "outputs": [
    {
     "output_type": "stream",
     "name": "stderr",
     "text": [
      "UsageError: Line magic function `%%time` not found.\n"
     ]
    }
   ],
   "metadata": {}
  },
  {
   "cell_type": "code",
   "execution_count": null,
   "source": [
    "# se quiser monitorar a convergência, fazer um plot dinâmico etc, usar o iterator do simulated annealing, por exemplo:\r\n",
    "# usar o iterator faz ficar bem mais lento, podemos colocar pra retornar uma lista na função, mas quero deixar o iterator pra fazer plot dinâmico\r\n",
    "\r\n",
    "for T, state_cost, state, best_cost, best in mdgp.simulated_annealing_iterator(schedules[0]['cooling_schedule']):\r\n",
    "        print(\"---------------------------------\")\r\n",
    "        print(f'temperatura atual {T}')\r\n",
    "        print(f'custo do estado atual {state_cost}')\r\n",
    "        print(f'custo do melhor estado {best_cost}')\r\n",
    "        print(\"---------------------------------\")"
   ],
   "outputs": [],
   "metadata": {}
  }
 ],
 "metadata": {
  "interpreter": {
   "hash": "6c6cf88da8312658e855c235cee500d3d0877e85444f123c30f493308302b553"
  },
  "kernelspec": {
   "name": "python3",
   "display_name": "Python 3.8.5 64-bit"
  },
  "language_info": {
   "codemirror_mode": {
    "name": "ipython",
    "version": 3
   },
   "file_extension": ".py",
   "mimetype": "text/x-python",
   "name": "python",
   "nbconvert_exporter": "python",
   "pygments_lexer": "ipython3",
   "version": "3.8.5"
  }
 },
 "nbformat": 4,
 "nbformat_minor": 2
}