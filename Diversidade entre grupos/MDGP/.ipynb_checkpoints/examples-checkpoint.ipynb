{
 "cells": [
  {
   "cell_type": "code",
   "execution_count": 1,
   "metadata": {},
   "outputs": [],
   "source": [
    "from data.data_processing import Students\n",
    "from mdgp import MDGP\n",
    "import pandas as pd"
   ]
  },
  {
   "cell_type": "code",
   "execution_count": 2,
   "metadata": {},
   "outputs": [
    {
     "data": {
      "text/plain": [
       "27"
      ]
     },
     "execution_count": 2,
     "metadata": {},
     "output_type": "execute_result"
    }
   ],
   "source": [
    "# Grupos de alunos\n",
    "students = Students()\n",
    "\n",
    "# olhar turmas disponíveis\n",
    "std_classes = students.get_available_classes()\n",
    "\n",
    "# selecionar uma para usar no MDGP\n",
    "std_class = std_classes[0]\n",
    "\n",
    "students_in_class, distance_matrix = students.get_name_distance_matrix(std_class)\n",
    "\n",
    "# dar uma olhada se da pra formar grupos\n",
    "students_in_class.shape[0]\n"
   ]
  },
  {
   "cell_type": "code",
   "execution_count": 3,
   "metadata": {},
   "outputs": [
    {
     "ename": "TypeError",
     "evalue": "log_schedule() missing 1 required positional argument: 'b'",
     "output_type": "error",
     "traceback": [
      "\u001b[1;31m---------------------------------------------------------------------------\u001b[0m",
      "\u001b[1;31mTypeError\u001b[0m                                 Traceback (most recent call last)",
      "\u001b[1;32m~\\AppData\\Local\\Temp/ipykernel_32/2663302238.py\u001b[0m in \u001b[0;36m<module>\u001b[1;34m\u001b[0m\n\u001b[0;32m      7\u001b[0m     \u001b[1;33m{\u001b[0m\u001b[1;34m'cooling_function'\u001b[0m\u001b[1;33m:\u001b[0m \u001b[1;34m'exponential'\u001b[0m\u001b[1;33m,\u001b[0m \u001b[1;34m'cooling_schedule'\u001b[0m\u001b[1;33m:\u001b[0m \u001b[0mmdgp\u001b[0m\u001b[1;33m.\u001b[0m\u001b[0mexponential_schedule\u001b[0m\u001b[1;33m(\u001b[0m\u001b[1;36m10000\u001b[0m\u001b[1;33m,\u001b[0m \u001b[1;36m0.01\u001b[0m\u001b[1;33m,\u001b[0m \u001b[1;36m0.5\u001b[0m\u001b[1;33m)\u001b[0m\u001b[1;33m}\u001b[0m\u001b[1;33m,\u001b[0m\u001b[1;33m\u001b[0m\u001b[1;33m\u001b[0m\u001b[0m\n\u001b[0;32m      8\u001b[0m     \u001b[1;33m{\u001b[0m\u001b[1;34m'cooling_function'\u001b[0m\u001b[1;33m:\u001b[0m \u001b[1;34m'linear'\u001b[0m\u001b[1;33m,\u001b[0m \u001b[1;34m'cooling_schedule'\u001b[0m\u001b[1;33m:\u001b[0m \u001b[0mmdgp\u001b[0m\u001b[1;33m.\u001b[0m\u001b[0mlinear_schedule\u001b[0m\u001b[1;33m(\u001b[0m\u001b[1;36m10000\u001b[0m\u001b[1;33m,\u001b[0m \u001b[1;36m1000\u001b[0m\u001b[1;33m,\u001b[0m \u001b[1;36m0.9\u001b[0m\u001b[1;33m)\u001b[0m\u001b[1;33m}\u001b[0m\u001b[1;33m,\u001b[0m\u001b[1;33m\u001b[0m\u001b[1;33m\u001b[0m\u001b[0m\n\u001b[1;32m----> 9\u001b[1;33m     \u001b[1;33m{\u001b[0m\u001b[1;34m'cooling_function'\u001b[0m\u001b[1;33m:\u001b[0m \u001b[1;34m'log'\u001b[0m\u001b[1;33m,\u001b[0m \u001b[1;34m'cooling_schedule'\u001b[0m\u001b[1;33m:\u001b[0m \u001b[0mmdgp\u001b[0m\u001b[1;33m.\u001b[0m\u001b[0mlog_schedule\u001b[0m\u001b[1;33m(\u001b[0m\u001b[1;36m1000\u001b[0m\u001b[1;33m,\u001b[0m \u001b[1;36m10000\u001b[0m\u001b[1;33m,\u001b[0m \u001b[1;36m0\u001b[0m\u001b[1;33m)\u001b[0m\u001b[1;33m}\u001b[0m\u001b[1;33m\u001b[0m\u001b[1;33m\u001b[0m\u001b[0m\n\u001b[0m\u001b[0;32m     10\u001b[0m ]\n\u001b[0;32m     11\u001b[0m \u001b[1;33m\u001b[0m\u001b[0m\n",
      "\u001b[1;31mTypeError\u001b[0m: log_schedule() missing 1 required positional argument: 'b'"
     ]
    }
   ],
   "source": [
    "# criar instância do MDGP para resolver o problema passando a matriz de distâncias e o número de grupos\n",
    "mdgp = MDGP(distance_matrix, 9)\n",
    "\n",
    "# obter agenda de resfriamento, tem as funções alfa (1a a ser implementada) e as sugeridas nos slides: exponencial, linear e logaritmica\n",
    "schedules = [\n",
    "    {'cooling_function': 'alpha', 'cooling_schedule': mdgp.alpha_schedule(10000, 0.01, 100, 0.9)},\n",
    "    {'cooling_function': 'exponential', 'cooling_schedule': mdgp.exponential_schedule(10000, 0.01, 0.5)},\n",
    "    {'cooling_function': 'linear', 'cooling_schedule': mdgp.linear_schedule(10000, 0.01, 0.9)},\n",
    "    {'cooling_function': 'log', 'cooling_schedule': mdgp.log_schedule(10000,0.01, 10000, 0)}\n",
    "]\n",
    "\n",
    "# modo de comparar as funções de resfriamento\n",
    "for schedule_data in schedules:\n",
    "    best_cost, best = mdgp.simulated_annealing(schedule_data['cooling_schedule'])\n",
    "    schedule_data['best_cost'] = best_cost\n",
    "    schedule_data['best_group_division'] = best\n"
   ]
  },
  {
   "cell_type": "code",
   "execution_count": null,
   "metadata": {},
   "outputs": [],
   "source": [
    "# comparando os resultados\n",
    "results = pd.DataFrame(schedules)\n",
    "results"
   ]
  },
  {
   "cell_type": "code",
   "execution_count": null,
   "metadata": {},
   "outputs": [],
   "source": [
    "# se quiser monitorar a convergência, fazer um plot dinâmico etc, usar o iterator do simulated annealing, por exemplo:\n",
    "# usar o iterator faz ficar bem mais lento, podemos colocar pra retornar uma lista na função, mas quero deixar o iterator pra fazer plot dinâmico\n",
    "\n",
    "for T, state_cost, state, best_cost, best in mdgp.simulated_annealing_iterator(schedules[0]['cooling_schedule']):\n",
    "        print(\"---------------------------------\")\n",
    "        print(f'temperatura atual {T}')\n",
    "        print(f'custo do estado atual {state_cost}')\n",
    "        print(f'custo do melhor estado {best_cost}')\n",
    "        print(\"---------------------------------\")"
   ]
  },
  {
   "cell_type": "code",
   "execution_count": null,
   "metadata": {},
   "outputs": [],
   "source": []
  }
 ],
 "metadata": {
  "interpreter": {
   "hash": "31f2aee4e71d21fbe5cf8b01ff0e069b9275f58929596ceb00d14d90e3e16cd6"
  },
  "kernelspec": {
   "display_name": "Python 3 (ipykernel)",
   "language": "python",
   "name": "python3"
  },
  "language_info": {
   "codemirror_mode": {
    "name": "ipython",
    "version": 3
   },
   "file_extension": ".py",
   "mimetype": "text/x-python",
   "name": "python",
   "nbconvert_exporter": "python",
   "pygments_lexer": "ipython3",
   "version": "3.9.6"
  }
 },
 "nbformat": 4,
 "nbformat_minor": 2
}
