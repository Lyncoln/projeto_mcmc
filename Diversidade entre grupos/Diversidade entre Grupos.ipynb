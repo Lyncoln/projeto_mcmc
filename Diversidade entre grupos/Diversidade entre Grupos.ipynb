{
 "cells": [
  {
   "cell_type": "code",
   "execution_count": null,
   "id": "42b76a7b",
   "metadata": {},
   "outputs": [],
   "source": [
    "import pandas as pd\n",
    "import numpy as np\n",
    "import random\n",
    "import itertools\n",
    "import math\n",
    "import matplotlib.pyplot as plt"
   ]
  },
  {
   "cell_type": "code",
   "execution_count": null,
   "id": "bf373f05",
   "metadata": {},
   "outputs": [],
   "source": [
    "#path = 'C:/Users/Lyncoln/OneDrive/pos_UFRJ/mcmc/projeto_2/Trabalho-Metaheuristica-master/Instancias/toy.in'\n",
    "#path = 'C:/Users/Lyncoln/OneDrive/pos_UFRJ/mcmc/projeto_2/Trabalho-Metaheuristica-master/Instancias/960/Geo_n960_ss_01.in'\n",
    "#path = 'C:/Users/Lyncoln/OneDrive/pos_UFRJ/mcmc/projeto_2/Trabalho-Metaheuristica-master/Instancias/toy2.in'\n",
    "#path = os.getcwd() + '/mdgplib/Geo/Geo_n030_ss_07.txt'\n",
    "path = os.getcwd() + '\\\\nomes_pesc_md_2020_formated.txt'\n",
    "#path = 'G:\\GitHub\\projeto_mcmc\\Diversidade entre grupos/mdgplib/Geo/Geo_n120_ss_06.txt'"
   ]
  },
  {
   "cell_type": "code",
   "execution_count": null,
   "id": "b79c6571",
   "metadata": {},
   "outputs": [],
   "source": [
    "def read_objects(file):\n",
    "    aux = True\n",
    "    data = []\n",
    "    for line in open(file,'r'):\n",
    "        if(aux):\n",
    "            aux = False\n",
    "            first_line = list(map(lambda x: float(x), (line.replace(' \\n',\"\").split(\" \")[0:2])))\n",
    "        else:\n",
    "            data.append(list(map(lambda x: float(x), ((line.replace('\\n','').split(' '))))))\n",
    "            \n",
    "    return(first_line, data)"
   ]
  },
  {
   "cell_type": "code",
   "execution_count": null,
   "id": "88e3f38c",
   "metadata": {},
   "outputs": [],
   "source": [
    "first_line, data = read_objects(path)"
   ]
  },
  {
   "cell_type": "code",
   "execution_count": null,
   "id": "4629a054",
   "metadata": {},
   "outputs": [],
   "source": [
    "n = first_line[0]\n",
    "g = first_line[1]"
   ]
  },
  {
   "cell_type": "code",
   "execution_count": null,
   "id": "e178562d",
   "metadata": {},
   "outputs": [],
   "source": [
    "def cost_matrix(dados,n):\n",
    "    n = int(n)\n",
    "    matrix = np.zeros((n,n))\n",
    "    for index in data:\n",
    "        i = int(index[0])\n",
    "        j = int(index[1])\n",
    "        matrix[i][j] = index[2]\n",
    "        matrix[j][i] = index[2]\n",
    "    \n",
    "    return(matrix)"
   ]
  },
  {
   "cell_type": "code",
   "execution_count": null,
   "id": "dc0a3006",
   "metadata": {},
   "outputs": [],
   "source": [
    "matrix = cost_matrix(data, n)"
   ]
  },
  {
   "cell_type": "code",
   "execution_count": null,
   "id": "af66a4ff",
   "metadata": {},
   "outputs": [],
   "source": [
    "def initial_state(n,g):\n",
    "    qtd_ind = int(n/g)\n",
    "    state = []\n",
    "    cont = 0\n",
    "    \n",
    "    for j in range(int(g)):\n",
    "        for i in range(qtd_ind):\n",
    "            state.append(j)\n",
    "    #random.shuffle(state)            \n",
    "    return(state)"
   ]
  },
  {
   "cell_type": "code",
   "execution_count": null,
   "id": "6ee8a354",
   "metadata": {},
   "outputs": [],
   "source": [
    "def evaluete_group(cost, state):\n",
    "    groups = list(set(state))\n",
    "    sums = 0\n",
    "    for i in groups:\n",
    "        for j in np.where(np.array(state) == i):\n",
    "            for element in list(itertools.combinations(j,2)):\n",
    "                sums += cost[element[0]][element[1]]\n",
    "            \n",
    "    return(sums)"
   ]
  },
  {
   "cell_type": "code",
   "execution_count": null,
   "id": "b5ed35aa",
   "metadata": {},
   "outputs": [],
   "source": [
    "def generate_neighbors(state):\n",
    "    state = list(state)\n",
    "    groups = list(set(state))\n",
    "    groups_change = random.sample(groups,2)\n",
    "    \n",
    "    index_choose = []\n",
    "    for i in groups_change:\n",
    "        index_choose.append(np.random.choice(np.where(np.array(state) == i)[0],1)[0])\n",
    "    \n",
    "    aux = state[index_choose[0]]\n",
    "    state[index_choose[0]] = state[index_choose[1]]\n",
    "    state[index_choose[1]] = aux\n",
    "    \n",
    "    return(state)\n",
    "    "
   ]
  },
  {
   "cell_type": "code",
   "execution_count": null,
   "id": "8010349d",
   "metadata": {},
   "outputs": [],
   "source": [
    "def boltzmann(state,cost,candidate_state,T):\n",
    "    f_state = evaluete_group(cost,state)\n",
    "    f_candidate = evaluete_group(cost,candidate_state)\n",
    "    dif = math.exp(-abs(f_state - f_candidate)/T)\n",
    "    return(dif)\n",
    "\n",
    "def accept(state,candidate,cost,T,best):\n",
    "    state_cost = evaluete_group(cost,state)\n",
    "    candidate_cost = evaluete_group(cost,candidate)\n",
    "    best_coast = evaluete_group(cost,best)\n",
    "    \n",
    "    if(state_cost < candidate_cost):\n",
    "        state = candidate\n",
    "        if(best_coast < candidate_cost):\n",
    "            best = candidate\n",
    "    \n",
    "    else: \n",
    "        #print(boltzmann(state,cost,candidate,T))\n",
    "        if(random.uniform(0,1) < boltzmann(state,cost,candidate,T)):\n",
    "            state = candidate\n",
    "    \n",
    "    return(state,best)"
   ]
  },
  {
   "cell_type": "code",
   "execution_count": null,
   "id": "0374ae12",
   "metadata": {},
   "outputs": [],
   "source": [
    "def simulated_annealing(alfa,cost,itermax,t0,initial, verbose = False):\n",
    "    itercont = 0\n",
    "    T = t0\n",
    "    state = initial\n",
    "    best = initial\n",
    "    values = [evaluete_group(cost,state)]\n",
    "    T_delta = [T]\n",
    "    while(T > 0.0001):\n",
    "        while(itercont < itermax):\n",
    "            \n",
    "            itercont += 1\n",
    "            neighbor = generate_neighbors(state)\n",
    "            \n",
    "            state, best = accept(state,neighbor,cost,T,best)    \n",
    "            #print(evaluete_group(cost,state))\n",
    "        T = T*alfa\n",
    "        values.append(evaluete_group(cost,best))\n",
    "        T_delta.append(T)\n",
    "        if(verbose):\n",
    "            print(T)\n",
    "        itercont = 0\n",
    "    \n",
    "    return(evaluete_group(cost,best),best,values,T_delta)   "
   ]
  },
  {
   "cell_type": "code",
   "execution_count": null,
   "id": "34e92020",
   "metadata": {
    "scrolled": true
   },
   "outputs": [],
   "source": [
    "state = initial_state(n,g)\n",
    "sa = simulated_annealing(0.90,matrix,1000,100000,state,True)\n",
    "sa"
   ]
  },
  {
   "cell_type": "code",
   "execution_count": null,
   "id": "5d81dd8e",
   "metadata": {},
   "outputs": [],
   "source": [
    "fig = plt.figure(figsize = (15,5))\n",
    "ax = plt.axes()\n",
    "x = sa[3]\n",
    "y = sa[2]\n",
    "ax.invert_xaxis()\n",
    "plt.title('Avaliação do grupo mais diverso pela temperatura')\n",
    "plt.ylabel('f (s)')\n",
    "plt.xlabel('Temperatura')\n",
    "ax.plot(x,y)"
   ]
  },
  {
   "cell_type": "code",
   "execution_count": null,
   "id": "4d3e41eb",
   "metadata": {},
   "outputs": [],
   "source": [
    "# Salvar as listas dos alunos\n",
    "with open(\"grupo_alunos.txt\", \"w\") as output:\n",
    "    output.write(str(sa[1]))"
   ]
  },
  {
   "cell_type": "markdown",
   "id": "dd114a8b",
   "metadata": {},
   "source": [
    "# Fazer as comparações com as bases na pasta compare"
   ]
  },
  {
   "cell_type": "code",
   "execution_count": null,
   "id": "1f4d131b",
   "metadata": {},
   "outputs": [],
   "source": [
    "import pandas as pd\n",
    "import os"
   ]
  },
  {
   "cell_type": "markdown",
   "id": "c40f5090",
   "metadata": {},
   "source": [
    "### Geo"
   ]
  },
  {
   "cell_type": "code",
   "execution_count": null,
   "id": "6c20dbd6",
   "metadata": {},
   "outputs": [],
   "source": [
    "data_compare_geo = pd.read_excel('compare/geo.xlsx')"
   ]
  },
  {
   "cell_type": "code",
   "execution_count": null,
   "id": "12d0a10e",
   "metadata": {},
   "outputs": [],
   "source": [
    "values_sa = []\n",
    "for archive in data_compare_geo.Data_Set:\n",
    "    path = os.getcwd()+'/mdgplib/'+archive\n",
    "    print(path)\n",
    "    first_line, data = read_objects(path)\n",
    "    n = first_line[0]\n",
    "    g = first_line[1]\n",
    "    cost = cost_matrix(data, n)\n",
    "    state_initial = initial_state(n,g)\n",
    "    sa_archive = simulated_annealing(0.90,cost,1000,100000,state_initial,True)\n",
    "    values_sa.append(sa_archive[0])\n",
    "    "
   ]
  },
  {
   "cell_type": "code",
   "execution_count": null,
   "id": "4fa2a5ae",
   "metadata": {},
   "outputs": [],
   "source": [
    "data_compare_geo[\"SA\"] = values_sa"
   ]
  },
  {
   "cell_type": "code",
   "execution_count": null,
   "id": "a1247ab7",
   "metadata": {},
   "outputs": [],
   "source": [
    "data_compare_geo"
   ]
  },
  {
   "cell_type": "code",
   "execution_count": null,
   "id": "fab9cf19",
   "metadata": {},
   "outputs": [],
   "source": [
    "data_compare_geo.to_csv(\"compared/geo.csv\")"
   ]
  },
  {
   "cell_type": "markdown",
   "id": "fbf6dc3e",
   "metadata": {},
   "source": [
    "### Ranint"
   ]
  },
  {
   "cell_type": "code",
   "execution_count": null,
   "id": "3a0184d1",
   "metadata": {},
   "outputs": [],
   "source": [
    "data_compare_ranint = pd.read_excel('compare/ranint.xlsx')"
   ]
  },
  {
   "cell_type": "code",
   "execution_count": null,
   "id": "4b34d2e2",
   "metadata": {},
   "outputs": [],
   "source": [
    "values_sa = []\n",
    "for archive in data_compare_ranint.Data_Set:\n",
    "    path = os.getcwd()+'/mdgplib/'+archive\n",
    "    print(path)\n",
    "    first_line, data = read_objects(path)\n",
    "    n = first_line[0]\n",
    "    g = first_line[1]\n",
    "    cost = cost_matrix(data, n)\n",
    "    state_initial = initial_state(n,g)\n",
    "    sa_archive = simulated_annealing(0.90,cost,1000,100000,state_initial,True)\n",
    "    values_sa.append(sa_archive[0])"
   ]
  },
  {
   "cell_type": "code",
   "execution_count": null,
   "id": "a15897b8",
   "metadata": {},
   "outputs": [],
   "source": [
    "data_compare_ranint[\"SA\"] = values_sa"
   ]
  },
  {
   "cell_type": "code",
   "execution_count": null,
   "id": "1595cd00",
   "metadata": {},
   "outputs": [],
   "source": [
    "data_compare_ranint"
   ]
  },
  {
   "cell_type": "code",
   "execution_count": null,
   "id": "655cbeba",
   "metadata": {},
   "outputs": [],
   "source": [
    "data_compare_geo.to_csv(\"compared/ranint.csv\")"
   ]
  },
  {
   "cell_type": "markdown",
   "id": "336c29ff",
   "metadata": {},
   "source": [
    "### Ranreal"
   ]
  },
  {
   "cell_type": "code",
   "execution_count": null,
   "id": "5c474de1",
   "metadata": {},
   "outputs": [],
   "source": [
    "data_compare_ranreal = pd.read_excel('compare/ranreal.xlsx')"
   ]
  },
  {
   "cell_type": "code",
   "execution_count": null,
   "id": "3525723d",
   "metadata": {},
   "outputs": [],
   "source": [
    "values_sa = []\n",
    "for archive in data_compare_ranreal.Data_Set:\n",
    "    path = os.getcwd()+'/mdgplib/'+archive\n",
    "    print(path)\n",
    "    first_line, data = read_objects(path)\n",
    "    n = first_line[0]\n",
    "    g = first_line[1]\n",
    "    cost = cost_matrix(data, n)\n",
    "    state_initial = initial_state(n,g)\n",
    "    sa_archive = simulated_annealing(0.90,cost,1000,100000,state_initial,True)\n",
    "    values_sa.append(sa_archive[0])"
   ]
  },
  {
   "cell_type": "code",
   "execution_count": null,
   "id": "dd3a328f",
   "metadata": {},
   "outputs": [],
   "source": [
    "data_compare_ranreal[\"SA\"] = values_sa"
   ]
  },
  {
   "cell_type": "code",
   "execution_count": null,
   "id": "0502ddd4",
   "metadata": {},
   "outputs": [],
   "source": [
    "data_compare_ranreal"
   ]
  },
  {
   "cell_type": "code",
   "execution_count": null,
   "id": "d007160e",
   "metadata": {},
   "outputs": [],
   "source": [
    "data_compare_ranreal.to_csv(\"compared/ranreal.csv\")"
   ]
  }
 ],
 "metadata": {
  "kernelspec": {
   "display_name": "Python 3 (ipykernel)",
   "language": "python",
   "name": "python3"
  },
  "language_info": {
   "codemirror_mode": {
    "name": "ipython",
    "version": 3
   },
   "file_extension": ".py",
   "mimetype": "text/x-python",
   "name": "python",
   "nbconvert_exporter": "python",
   "pygments_lexer": "ipython3",
   "version": "3.9.6"
  }
 },
 "nbformat": 4,
 "nbformat_minor": 5
}
