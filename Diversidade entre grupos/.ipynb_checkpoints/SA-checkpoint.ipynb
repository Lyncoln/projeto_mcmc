{
 "cells": [
  {
   "cell_type": "code",
   "execution_count": 2,
   "id": "ca351e50",
   "metadata": {},
   "outputs": [],
   "source": [
    "from MDGP.mdgp import MDGP\n",
    "import pandas as pd\n",
    "import os"
   ]
  },
  {
   "cell_type": "code",
   "execution_count": 3,
   "id": "9ab836aa",
   "metadata": {},
   "outputs": [],
   "source": [
    "def read_objects(file):\n",
    "    aux = True\n",
    "    data = []\n",
    "    for line in open(file,'r'):\n",
    "        if(aux):\n",
    "            aux = False\n",
    "            first_line = list(map(lambda x: float(x), (line.replace(' \\n',\"\").split(\" \")[0:2])))\n",
    "        else:\n",
    "            data.append(list(map(lambda x: float(x), ((line.replace('\\n','').split(' '))))))\n",
    "            \n",
    "    return(first_line, data)\n",
    "\n",
    "def cost_matrix(dados,n):\n",
    "    n = int(n)\n",
    "    matrix = np.zeros((n,n))\n",
    "    for index in data:\n",
    "        i = int(index[0])\n",
    "        j = int(index[1])\n",
    "        matrix[i][j] = index[2]\n",
    "        matrix[j][i] = index[2]\n",
    "    \n",
    "    return(matrix)"
   ]
  },
  {
   "cell_type": "code",
   "execution_count": 6,
   "id": "150d816a",
   "metadata": {},
   "outputs": [],
   "source": [
    "data_compare_geo = pd.read_excel('compare/toy.xlsx')"
   ]
  },
  {
   "cell_type": "code",
   "execution_count": 8,
   "id": "5df4e5e4",
   "metadata": {},
   "outputs": [
    {
     "name": "stdout",
     "output_type": "stream",
     "text": [
      "G:\\GitHub\\projeto_mcmc\\Diversidade entre grupos/mdgplib/Geo/Geo_n010_ss_06.txt\n",
      "G:\\GitHub\\projeto_mcmc\\Diversidade entre grupos/mdgplib/Geo/Geo_n012_ss_06.txt\n"
     ]
    }
   ],
   "source": [
    "for archive in data_compare_geo.Data_Set:\n",
    "    path = os.getcwd()+'/mdgplib/'+archive\n",
    "    print(path)\n",
    "    first_line, data = read_objects(path)\n",
    "    "
   ]
  },
  {
   "cell_type": "code",
   "execution_count": 5,
   "id": "cb578d82",
   "metadata": {
    "scrolled": true
   },
   "outputs": [
    {
     "data": {
      "text/html": [
       "<div>\n",
       "<style scoped>\n",
       "    .dataframe tbody tr th:only-of-type {\n",
       "        vertical-align: middle;\n",
       "    }\n",
       "\n",
       "    .dataframe tbody tr th {\n",
       "        vertical-align: top;\n",
       "    }\n",
       "\n",
       "    .dataframe thead th {\n",
       "        text-align: right;\n",
       "    }\n",
       "</style>\n",
       "<table border=\"1\" class=\"dataframe\">\n",
       "  <thead>\n",
       "    <tr style=\"text-align: right;\">\n",
       "      <th></th>\n",
       "      <th>Data_Set</th>\n",
       "      <th>T-LCW</th>\n",
       "      <th>LSGA</th>\n",
       "      <th>LCW</th>\n",
       "      <th>SO</th>\n",
       "    </tr>\n",
       "  </thead>\n",
       "  <tbody>\n",
       "    <tr>\n",
       "      <th>0</th>\n",
       "      <td>Geo/Geo_n010_ss_06.txt</td>\n",
       "      <td>1161.772992</td>\n",
       "      <td>1161.772992</td>\n",
       "      <td>1161.772992</td>\n",
       "      <td>1161.772992</td>\n",
       "    </tr>\n",
       "    <tr>\n",
       "      <th>1</th>\n",
       "      <td>Geo/Geo_n012_ss_06.txt</td>\n",
       "      <td>1482.283997</td>\n",
       "      <td>1482.283997</td>\n",
       "      <td>1482.283997</td>\n",
       "      <td>1482.283997</td>\n",
       "    </tr>\n",
       "    <tr>\n",
       "      <th>2</th>\n",
       "      <td>Geo/Geo_n030_ss_06.txt</td>\n",
       "      <td>14345.105942</td>\n",
       "      <td>14345.105942</td>\n",
       "      <td>14345.105942</td>\n",
       "      <td>14345.105942</td>\n",
       "    </tr>\n",
       "    <tr>\n",
       "      <th>3</th>\n",
       "      <td>Geo/Geo_n060_ss_06.txt</td>\n",
       "      <td>25212.455933</td>\n",
       "      <td>25198.339024</td>\n",
       "      <td>25196.826027</td>\n",
       "      <td>25224.346046</td>\n",
       "    </tr>\n",
       "    <tr>\n",
       "      <th>4</th>\n",
       "      <td>Geo/Geo_n120_ss_06.txt</td>\n",
       "      <td>125330.618027</td>\n",
       "      <td>125272.361969</td>\n",
       "      <td>125298.387108</td>\n",
       "      <td>125328.516953</td>\n",
       "    </tr>\n",
       "    <tr>\n",
       "      <th>5</th>\n",
       "      <td>Geo/Geo_n240_ss_06.txt</td>\n",
       "      <td>338444.165283</td>\n",
       "      <td>338319.627769</td>\n",
       "      <td>338307.263237</td>\n",
       "      <td>338491.630981</td>\n",
       "    </tr>\n",
       "    <tr>\n",
       "      <th>6</th>\n",
       "      <td>Geo/Geo_n480_ss_06.txt</td>\n",
       "      <td>966237.671997</td>\n",
       "      <td>965989.518776</td>\n",
       "      <td>965942.079872</td>\n",
       "      <td>966255.483894</td>\n",
       "    </tr>\n",
       "  </tbody>\n",
       "</table>\n",
       "</div>"
      ],
      "text/plain": [
       "                 Data_Set          T-LCW           LSGA            LCW  \\\n",
       "0  Geo/Geo_n010_ss_06.txt    1161.772992    1161.772992    1161.772992   \n",
       "1  Geo/Geo_n012_ss_06.txt    1482.283997    1482.283997    1482.283997   \n",
       "2  Geo/Geo_n030_ss_06.txt   14345.105942   14345.105942   14345.105942   \n",
       "3  Geo/Geo_n060_ss_06.txt   25212.455933   25198.339024   25196.826027   \n",
       "4  Geo/Geo_n120_ss_06.txt  125330.618027  125272.361969  125298.387108   \n",
       "5  Geo/Geo_n240_ss_06.txt  338444.165283  338319.627769  338307.263237   \n",
       "6  Geo/Geo_n480_ss_06.txt  966237.671997  965989.518776  965942.079872   \n",
       "\n",
       "              SO  \n",
       "0    1161.772992  \n",
       "1    1482.283997  \n",
       "2   14345.105942  \n",
       "3   25224.346046  \n",
       "4  125328.516953  \n",
       "5  338491.630981  \n",
       "6  966255.483894  "
      ]
     },
     "execution_count": 5,
     "metadata": {},
     "output_type": "execute_result"
    }
   ],
   "source": [
    "schedules = [\n",
    "    {'cooling_function': 'alpha', 'cooling_schedule': mdgp.alpha_schedule(10000, 0.0001, 100, 0.9)},\n",
    "    {'cooling_function': 'exponential', 'cooling_schedule': mdgp.exponential_schedule(10000, 0.0001, 0.5)},\n",
    "    {'cooling_function': 'linear', 'cooling_schedule': mdgp.linear_schedule(10000, 0.0001, 0.9)},\n",
    "    {'cooling_function': 'log', 'cooling_schedule': mdgp.log_schedule(0.0001, 0.001, 1000)}\n",
    "]"
   ]
  }
 ],
 "metadata": {
  "kernelspec": {
   "display_name": "Python 3 (ipykernel)",
   "language": "python",
   "name": "python3"
  },
  "language_info": {
   "codemirror_mode": {
    "name": "ipython",
    "version": 3
   },
   "file_extension": ".py",
   "mimetype": "text/x-python",
   "name": "python",
   "nbconvert_exporter": "python",
   "pygments_lexer": "ipython3",
   "version": "3.9.6"
  }
 },
 "nbformat": 4,
 "nbformat_minor": 5
}
