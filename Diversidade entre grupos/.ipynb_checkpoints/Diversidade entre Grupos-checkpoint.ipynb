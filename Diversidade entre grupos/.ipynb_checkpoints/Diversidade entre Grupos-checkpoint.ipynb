{
 "cells": [
  {
   "cell_type": "code",
   "execution_count": 1,
   "id": "42b76a7b",
   "metadata": {},
   "outputs": [],
   "source": [
    "import pandas as pd\n",
    "import numpy as np\n",
    "import random\n",
    "import itertools\n",
    "import math"
   ]
  },
  {
   "cell_type": "code",
   "execution_count": 2,
   "id": "bf373f05",
   "metadata": {},
   "outputs": [],
   "source": [
    "#path = 'C:/Users/Lyncoln/OneDrive/pos_UFRJ/mcmc/projeto_2/Trabalho-Metaheuristica-master/Instancias/toy.in'\n",
    "#path = 'C:/Users/Lyncoln/OneDrive/pos_UFRJ/mcmc/projeto_2/Trabalho-Metaheuristica-master/Instancias/960/Geo_n960_ss_01.in'\n",
    "#path = 'C:/Users/Lyncoln/OneDrive/pos_UFRJ/mcmc/projeto_2/Trabalho-Metaheuristica-master/Instancias/toy2.in'\n",
    "path = os.getcwd() + '/mdgplib/Geo/Geo_n030_ss_07.txt'"
   ]
  },
  {
   "cell_type": "code",
   "execution_count": 3,
   "id": "b79c6571",
   "metadata": {},
   "outputs": [],
   "source": [
    "def read_objects(file):\n",
    "    aux = True\n",
    "    data = []\n",
    "    for line in open(file,'r'):\n",
    "        if(aux):\n",
    "            aux = False\n",
    "            first_line = list(map(lambda x: float(x), (line.replace(' \\n',\"\").split(\" \")[0:2])))\n",
    "        else:\n",
    "            data.append(list(map(lambda x: float(x), ((line.replace('\\n','').split(' '))))))\n",
    "            \n",
    "    return(first_line, data)"
   ]
  },
  {
   "cell_type": "code",
   "execution_count": 4,
   "id": "88e3f38c",
   "metadata": {},
   "outputs": [],
   "source": [
    "first_line, data = read_objects(path)"
   ]
  },
  {
   "cell_type": "code",
   "execution_count": 7,
   "id": "4629a054",
   "metadata": {},
   "outputs": [],
   "source": [
    "n = first_line[0]\n",
    "g = first_line[1]"
   ]
  },
  {
   "cell_type": "code",
   "execution_count": 8,
   "id": "e178562d",
   "metadata": {},
   "outputs": [],
   "source": [
    "def cost_matrix(dados,n):\n",
    "    n = int(n)\n",
    "    matrix = np.zeros((n,n))\n",
    "    for index in data:\n",
    "        i = int(index[0])\n",
    "        j = int(index[1])\n",
    "        matrix[i][j] = index[2]\n",
    "        matrix[j][i] = index[2]\n",
    "    \n",
    "    return(matrix)"
   ]
  },
  {
   "cell_type": "code",
   "execution_count": 9,
   "id": "dc0a3006",
   "metadata": {},
   "outputs": [],
   "source": [
    "matrix = cost_matrix(data, n)"
   ]
  },
  {
   "cell_type": "code",
   "execution_count": 10,
   "id": "af66a4ff",
   "metadata": {},
   "outputs": [],
   "source": [
    "def initial_state(n,g):\n",
    "    qtd_ind = int(n/g)\n",
    "    state = []\n",
    "    cont = 0\n",
    "    \n",
    "    for j in range(int(g)):\n",
    "        for i in range(qtd_ind):\n",
    "            state.append(j)\n",
    "    #random.shuffle(state)            \n",
    "    return(state)"
   ]
  },
  {
   "cell_type": "code",
   "execution_count": 11,
   "id": "6ee8a354",
   "metadata": {},
   "outputs": [],
   "source": [
    "def evaluete_group(cost, state):\n",
    "    groups = list(set(state))\n",
    "    sums = 0\n",
    "    for i in groups:\n",
    "        for j in np.where(np.array(state) == i):\n",
    "            for element in list(itertools.combinations(j,2)):\n",
    "                sums += cost[element[0]][element[1]]\n",
    "            \n",
    "    return(sums)"
   ]
  },
  {
   "cell_type": "code",
   "execution_count": 12,
   "id": "b5ed35aa",
   "metadata": {},
   "outputs": [],
   "source": [
    "def generate_neighbors(state):\n",
    "    state = list(state)\n",
    "    groups = list(set(state))\n",
    "    groups_change = random.sample(groups,2)\n",
    "    \n",
    "    index_choose = []\n",
    "    for i in groups_change:\n",
    "        index_choose.append(np.random.choice(np.where(np.array(state) == i)[0],1)[0])\n",
    "    \n",
    "    aux = state[index_choose[0]]\n",
    "    state[index_choose[0]] = state[index_choose[1]]\n",
    "    state[index_choose[1]] = aux\n",
    "    \n",
    "    return(state)\n",
    "    "
   ]
  },
  {
   "cell_type": "code",
   "execution_count": 13,
   "id": "8010349d",
   "metadata": {},
   "outputs": [],
   "source": [
    "def boltzmann(state,cost,candidate_state,T):\n",
    "    f_state = evaluete_group(cost,state)\n",
    "    f_candidate = evaluete_group(cost,candidate_state)\n",
    "    dif = math.exp(-abs(f_state - f_candidate)/T)\n",
    "    return(dif)\n",
    "\n",
    "def accept(state,candidate,cost,T,best):\n",
    "    state_cost = evaluete_group(cost,state)\n",
    "    candidate_cost = evaluete_group(cost,candidate)\n",
    "    best_coast = evaluete_group(cost,best)\n",
    "    \n",
    "    if(state_cost < candidate_cost):\n",
    "        state = candidate\n",
    "        if(best_coast < candidate_cost):\n",
    "            best = candidate\n",
    "    \n",
    "    else: \n",
    "        #print(boltzmann(state,cost,candidate,T))\n",
    "        if(random.uniform(0,1) < boltzmann(state,cost,candidate,T)):\n",
    "            state = candidate\n",
    "    \n",
    "    return(state,best)"
   ]
  },
  {
   "cell_type": "code",
   "execution_count": 14,
   "id": "0374ae12",
   "metadata": {},
   "outputs": [],
   "source": [
    "def simulated_annealing(alfa,cost,itermax,t0,initial):\n",
    "    itercont = 0\n",
    "    T = t0\n",
    "    state = initial\n",
    "    best = initial\n",
    "    while(T > 0.0001):\n",
    "        while(itercont < itermax):\n",
    "            \n",
    "            itercont += 1\n",
    "            neighbor = generate_neighbors(state)\n",
    "            \n",
    "            state, best = accept(state,neighbor,cost,T,best)    \n",
    "            #print(evaluete_group(cost,state))\n",
    "        T = T*alfa\n",
    "        print(T)\n",
    "        itercont = 0\n",
    "    \n",
    "    return(evaluete_group(cost,best),best)   "
   ]
  },
  {
   "cell_type": "code",
   "execution_count": null,
   "id": "34e92020",
   "metadata": {},
   "outputs": [],
   "source": [
    "state = initial_state(n,g)\n",
    "simulated_annealing(0.80,matrix,1000,100000,state)"
   ]
  }
 ],
 "metadata": {
  "kernelspec": {
   "display_name": "Python 3 (ipykernel)",
   "language": "python",
   "name": "python3"
  },
  "language_info": {
   "codemirror_mode": {
    "name": "ipython",
    "version": 3
   },
   "file_extension": ".py",
   "mimetype": "text/x-python",
   "name": "python",
   "nbconvert_exporter": "python",
   "pygments_lexer": "ipython3",
   "version": "3.9.6"
  }
 },
 "nbformat": 4,
 "nbformat_minor": 5
}
