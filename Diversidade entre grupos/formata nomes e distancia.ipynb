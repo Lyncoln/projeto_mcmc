{
 "cells": [
  {
   "cell_type": "code",
   "execution_count": 92,
   "id": "dc4915b6",
   "metadata": {},
   "outputs": [],
   "source": [
    "import os\n",
    "import string\n",
    "import jellyfish as jf"
   ]
  },
  {
   "cell_type": "code",
   "execution_count": 9,
   "id": "1eda15b3",
   "metadata": {},
   "outputs": [],
   "source": [
    "path = os.getcwd() + '\\\\nomes_pesc_md_2020.txt'"
   ]
  },
  {
   "cell_type": "code",
   "execution_count": 39,
   "id": "20b71885",
   "metadata": {},
   "outputs": [],
   "source": [
    "base = []\n",
    "for line in open(path):\n",
    "    base.append(''.join(x for x in line if x in string.printable).replace('\\n',\"\"))"
   ]
  },
  {
   "cell_type": "code",
   "execution_count": 41,
   "id": "3f3d80d5",
   "metadata": {},
   "outputs": [],
   "source": [
    "base_sorted = []\n",
    "for x in sorted(base):\n",
    "    base_sorted.append(x)"
   ]
  },
  {
   "cell_type": "code",
   "execution_count": 60,
   "id": "2ca32e2e",
   "metadata": {},
   "outputs": [],
   "source": [
    "cont = 1\n",
    "pairs = []\n",
    "for i in base_sorted:\n",
    "    for j in base_sorted[cont:]:\n",
    "        pairs.append([i,j])\n",
    "    cont+=1"
   ]
  },
  {
   "cell_type": "code",
   "execution_count": 99,
   "id": "52d89637",
   "metadata": {},
   "outputs": [],
   "source": [
    "values = list(map(lambda x: jf.levenshtein_distance(x[0],x[1]),pairs))"
   ]
  },
  {
   "cell_type": "code",
   "execution_count": 187,
   "id": "2f6f57ff",
   "metadata": {},
   "outputs": [],
   "source": [
    "dictionary = dict(zip(base_sorted,list(range(len(base_sorted)))))\n",
    "dictionary_inv = dict(zip(list(range(len(base_sorted))),base_sorted))"
   ]
  },
  {
   "cell_type": "code",
   "execution_count": 121,
   "id": "d025a76b",
   "metadata": {},
   "outputs": [],
   "source": [
    "for i in range(len(pairs)):\n",
    "    pairs[i][0] = dictionary.get(pairs[i][0])\n",
    "    pairs[i][1] = dictionary.get(pairs[i][1])"
   ]
  },
  {
   "cell_type": "code",
   "execution_count": 124,
   "id": "ada5746c",
   "metadata": {},
   "outputs": [],
   "source": [
    "for i in range(len(values)):\n",
    "    pairs[i].append(values[i])"
   ]
  },
  {
   "cell_type": "code",
   "execution_count": 137,
   "id": "f8b751a5",
   "metadata": {},
   "outputs": [],
   "source": [
    "archive = open('nomes_pesc_md_2020_formated.txt','w')\n",
    "archive.write(f'{len(dictionary)} 10\\n')\n",
    "for line in range(len(pairs)):\n",
    "    if(line == len(pairs)-1):\n",
    "        archive.write(f'{pairs[line][0]} {pairs[line][1]} {pairs[line][2]}')\n",
    "    else:\n",
    "        archive.write(f'{pairs[line][0]} {pairs[line][1]} {pairs[line][2]}\\n')\n",
    "archive.close()"
   ]
  },
  {
   "cell_type": "markdown",
   "id": "230ecc57",
   "metadata": {},
   "source": [
    "# Depois de executado o SA, recuperar os alunos dos grupos"
   ]
  },
  {
   "cell_type": "code",
   "execution_count": 140,
   "id": "21fd5d1d",
   "metadata": {},
   "outputs": [],
   "source": [
    "import numpy as np"
   ]
  },
  {
   "cell_type": "code",
   "execution_count": 184,
   "id": "ef081056",
   "metadata": {},
   "outputs": [
    {
     "name": "stdout",
     "output_type": "stream",
     "text": [
      "[9, 0, 4, 5, 7, 2, 3, 2, 6, 4, 1, 4, 7, 4, 1, 3, 3, 7, 5, 2, 9, 9, 0, 8, 8, 5, 2, 6, 5, 8, 1, 6, 8, 7, 3, 5, 7, 3, 2, 6, 1, 8, 1, 0, 0, 0, 9, 9, 6, 4]\n"
     ]
    }
   ],
   "source": [
    "with open('grupo_alunos.txt', 'r') as file:\n",
    "    sa_groups = list(map(lambda x: int(x),file.read().replace('[',\"\").replace(']',\"\").replace(\" \",\"\").split(\",\")))\n",
    "    print(sa_groups)"
   ]
  },
  {
   "cell_type": "code",
   "execution_count": 213,
   "id": "e8137760",
   "metadata": {
    "scrolled": true
   },
   "outputs": [],
   "source": [
    "groups_numbers = np.unique(data)\n",
    "groups = []\n",
    "\n",
    "for i in groups_numbers:\n",
    "    name_list = []\n",
    "    for aluno in list(np.where(np.array(sa_groups)==i)[0]):\n",
    "        name_list.append(dictionary_inv.get(aluno))\n",
    "    groups.append(name_list)"
   ]
  },
  {
   "cell_type": "code",
   "execution_count": 217,
   "id": "a55920df",
   "metadata": {},
   "outputs": [
    {
     "data": {
      "text/plain": [
       "[['Alexandre Donnelly Vaz',\n",
       "  'Gabriel dos Santos Vieira',\n",
       "  'Tiago Carvalho Gomes Montalvo',\n",
       "  'Vilma Bezerra Alves',\n",
       "  'Vincius Garcia Silva da Costa'],\n",
       " ['Cleiton Moya de Almeida',\n",
       "  'Diego Cardoso Borda Castro',\n",
       "  'Luis Armando Quintanilla Villon',\n",
       "  'Rodrigo Pereira Pagliusi',\n",
       "  'Stanley Cortes de Sousa'],\n",
       " ['Ana Lusa Souza Castanheira da Cruz',\n",
       "  'Bruno Monteiro Accioli da Silva',\n",
       "  'Felipe Crispim Fragoso',\n",
       "  'Leonardo Rosas Leal',\n",
       "  'Rachel Vital Simes'],\n",
       " ['Bruno Lima Cardoso',\n",
       "  'Diego Jesus da Costa Moreira',\n",
       "  'Douglas Castro da Silva',\n",
       "  'Mariana Martins Ferreira da Cruz',\n",
       "  'Pedro Paulo Gonalves Neto'],\n",
       " ['Alexandre Luis Batista da Silva',\n",
       "  'Bruno Ramos Lima Netto',\n",
       "  'Daniel Atkinson Oliveira',\n",
       "  'Diego Amaro Ferraz da Costa',\n",
       "  'Vitor de Castro Paes'],\n",
       " ['Amanda Camacho Novaes de Oliveira',\n",
       "  'Farmy Gonalves Ferreira da Silva',\n",
       "  'Joo Carmo de Almeida Neto',\n",
       "  'Lincoln Magalhes Costa',\n",
       "  'Matheus Lima Scramignon'],\n",
       " ['Bruno Pedraa de Souza',\n",
       "  'Liliane Neves de Oliveira Kunstmann',\n",
       "  'Luiz Claudio Sampaio Ramos',\n",
       "  'Rafael Almeida da Costa Schneider',\n",
       "  'Vitor Carneiro Maia'],\n",
       " ['Amanda Ferreira de Azevedo',\n",
       "  'Dbora Barbosa Pina',\n",
       "  'Ericson Jos da Silva Soares',\n",
       "  'Luiz Marcio Faria de Aquino Viana',\n",
       "  'Matheus Nunes Adauto'],\n",
       " ['Gilson Martins Coelho Filho',\n",
       "  'Joanna Carolina Manjarres Meneses',\n",
       "  'Lucas de Andrade',\n",
       "  'Luiz Henrique Silva Hoffmann',\n",
       "  'Rodrigo de Sapienza Luna'],\n",
       " ['Alessandra Costa Sinesio',\n",
       "  'Fernando Novaes Ribeiro da Silva',\n",
       "  'Gabriel Martins de Oliveira Costa',\n",
       "  'Vinicius Junqueira Schettino',\n",
       "  'Vitor Brando Sabbagh']]"
      ]
     },
     "execution_count": 217,
     "metadata": {},
     "output_type": "execute_result"
    }
   ],
   "source": [
    "groups"
   ]
  }
 ],
 "metadata": {
  "kernelspec": {
   "display_name": "Python 3 (ipykernel)",
   "language": "python",
   "name": "python3"
  },
  "language_info": {
   "codemirror_mode": {
    "name": "ipython",
    "version": 3
   },
   "file_extension": ".py",
   "mimetype": "text/x-python",
   "name": "python",
   "nbconvert_exporter": "python",
   "pygments_lexer": "ipython3",
   "version": "3.9.6"
  }
 },
 "nbformat": 4,
 "nbformat_minor": 5
}
