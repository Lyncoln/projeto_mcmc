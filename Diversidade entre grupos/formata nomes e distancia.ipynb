{
 "cells": [
  {
   "cell_type": "code",
   "execution_count": 16,
   "id": "dc4915b6",
   "metadata": {},
   "outputs": [],
   "source": [
    "import os\n",
    "import string"
   ]
  },
  {
   "cell_type": "code",
   "execution_count": 9,
   "id": "1eda15b3",
   "metadata": {},
   "outputs": [],
   "source": [
    "path = os.getcwd() + '\\\\nomes_pesc_md_2020.txt'"
   ]
  },
  {
   "cell_type": "code",
   "execution_count": 39,
   "id": "20b71885",
   "metadata": {},
   "outputs": [],
   "source": [
    "base = []\n",
    "for line in open(path):\n",
    "    #print(bytes(line,'utf-8'))\n",
    "    base.append(''.join(x for x in line if x in string.printable).replace('\\n',\"\"))\n",
    "\n"
   ]
  },
  {
   "cell_type": "code",
   "execution_count": 41,
   "id": "3f3d80d5",
   "metadata": {},
   "outputs": [],
   "source": [
    "base_sorted = []\n",
    "for x in sorted(base):\n",
    "    base_sorted.append(x)"
   ]
  },
  {
   "cell_type": "code",
   "execution_count": 60,
   "id": "2ca32e2e",
   "metadata": {},
   "outputs": [],
   "source": [
    "cont = 1\n",
    "pairs = []\n",
    "for i in base_sorted:\n",
    "    for j in base_sorted[cont:]:\n",
    "        pairs.append([i,j])\n",
    "    cont+=1"
   ]
  },
  {
   "cell_type": "code",
   "execution_count": 61,
   "id": "445e51ed",
   "metadata": {},
   "outputs": [
    {
     "data": {
      "text/plain": [
       "1225"
      ]
     },
     "execution_count": 61,
     "metadata": {},
     "output_type": "execute_result"
    }
   ],
   "source": [
    "len(pairs)"
   ]
  },
  {
   "cell_type": "code",
   "execution_count": 90,
   "id": "2f6f57ff",
   "metadata": {},
   "outputs": [],
   "source": [
    "dictionary = dict(zip(base_sorted,list(range(len(base_sorted)))))"
   ]
  },
  {
   "cell_type": "code",
   "execution_count": 91,
   "id": "d025a76b",
   "metadata": {},
   "outputs": [
    {
     "data": {
      "text/plain": [
       "{'Alessandra Costa Sinesio': 0,\n",
       " 'Alexandre Donnelly Vaz': 1,\n",
       " 'Alexandre Luis Batista da Silva': 2,\n",
       " 'Amanda Camacho Novaes de Oliveira': 3,\n",
       " 'Amanda Ferreira de Azevedo': 4,\n",
       " 'Ana Lusa Souza Castanheira da Cruz': 5,\n",
       " 'Bruno Lima Cardoso': 6,\n",
       " 'Bruno Monteiro Accioli da Silva': 7,\n",
       " 'Bruno Pedraa de Souza': 8,\n",
       " 'Bruno Ramos Lima Netto': 9,\n",
       " 'Cleiton Moya de Almeida': 10,\n",
       " 'Daniel Atkinson Oliveira': 11,\n",
       " 'Dbora Barbosa Pina': 12,\n",
       " 'Diego Amaro Ferraz da Costa': 13,\n",
       " 'Diego Cardoso Borda Castro': 14,\n",
       " 'Diego Jesus da Costa Moreira': 15,\n",
       " 'Douglas Castro da Silva': 16,\n",
       " 'Ericson Jos da Silva Soares': 17,\n",
       " 'Farmy Gonalves Ferreira da Silva': 18,\n",
       " 'Felipe Crispim Fragoso': 19,\n",
       " 'Fernando Novaes Ribeiro da Silva': 20,\n",
       " 'Gabriel Martins de Oliveira Costa': 21,\n",
       " 'Gabriel dos Santos Vieira': 22,\n",
       " 'Gilson Martins Coelho Filho': 23,\n",
       " 'Joanna Carolina Manjarres Meneses': 24,\n",
       " 'Joo Carmo de Almeida Neto': 25,\n",
       " 'Leonardo Rosas Leal': 26,\n",
       " 'Liliane Neves de Oliveira Kunstmann': 27,\n",
       " 'Lincoln Magalhes Costa': 28,\n",
       " 'Lucas de Andrade': 29,\n",
       " 'Luis Armando Quintanilla Villon': 30,\n",
       " 'Luiz Claudio Sampaio Ramos': 31,\n",
       " 'Luiz Henrique Silva Hoffmann': 32,\n",
       " 'Luiz Marcio Faria de Aquino Viana': 33,\n",
       " 'Mariana Martins Ferreira da Cruz': 34,\n",
       " 'Matheus Lima Scramignon': 35,\n",
       " 'Matheus Nunes Adauto': 36,\n",
       " 'Pedro Paulo Gonalves Neto': 37,\n",
       " 'Rachel Vital Simes': 38,\n",
       " 'Rafael Almeida da Costa Schneider': 39,\n",
       " 'Rodrigo Pereira Pagliusi': 40,\n",
       " 'Rodrigo de Sapienza Luna': 41,\n",
       " 'Stanley Cortes de Sousa': 42,\n",
       " 'Tiago Carvalho Gomes Montalvo': 43,\n",
       " 'Vilma Bezerra Alves': 44,\n",
       " 'Vincius Garcia Silva da Costa': 45,\n",
       " 'Vinicius Junqueira Schettino': 46,\n",
       " 'Vitor Brando Sabbagh': 47,\n",
       " 'Vitor Carneiro Maia': 48,\n",
       " 'Vitor de Castro Paes': 49}"
      ]
     },
     "execution_count": 91,
     "metadata": {},
     "output_type": "execute_result"
    }
   ],
   "source": [
    "dictionary"
   ]
  }
 ],
 "metadata": {
  "kernelspec": {
   "display_name": "Python 3 (ipykernel)",
   "language": "python",
   "name": "python3"
  },
  "language_info": {
   "codemirror_mode": {
    "name": "ipython",
    "version": 3
   },
   "file_extension": ".py",
   "mimetype": "text/x-python",
   "name": "python",
   "nbconvert_exporter": "python",
   "pygments_lexer": "ipython3",
   "version": "3.9.6"
  }
 },
 "nbformat": 4,
 "nbformat_minor": 5
}
