{
 "cells": [
  {
   "cell_type": "code",
   "execution_count": 23,
   "id": "dc4915b6",
   "metadata": {},
   "outputs": [],
   "source": [
    "import os\n",
    "import string\n",
    "import jellyfish as jf\n",
    "from unidecode import unidecode"
   ]
  },
  {
   "cell_type": "code",
   "execution_count": 24,
   "id": "1eda15b3",
   "metadata": {},
   "outputs": [],
   "source": [
    "path = os.getcwd() + '\\\\nomes_pesc_md_2020.txt'"
   ]
  },
  {
   "cell_type": "code",
   "execution_count": 33,
   "id": "20b71885",
   "metadata": {},
   "outputs": [],
   "source": [
    "base = []\n",
    "for line in open(path, encoding=\"utf-8\"):\n",
    "    #base.append(''.join(x for x in line if x in string.printable).replace('\\n',\"\"))    \n",
    "    base.append(unidecode(line.replace('\\n',\"\")))"
   ]
  },
  {
   "cell_type": "code",
   "execution_count": 34,
   "id": "3f3d80d5",
   "metadata": {},
   "outputs": [],
   "source": [
    "base_sorted = []\n",
    "for x in sorted(base):\n",
    "    base_sorted.append(x)"
   ]
  },
  {
   "cell_type": "code",
   "execution_count": 35,
   "id": "2ca32e2e",
   "metadata": {},
   "outputs": [],
   "source": [
    "cont = 1\n",
    "pairs = []\n",
    "for i in base_sorted:\n",
    "    for j in base_sorted[cont:]:\n",
    "        pairs.append([i,j])\n",
    "    cont+=1"
   ]
  },
  {
   "cell_type": "code",
   "execution_count": 36,
   "id": "52d89637",
   "metadata": {},
   "outputs": [],
   "source": [
    "values = list(map(lambda x: jf.levenshtein_distance(x[0],x[1]),pairs))"
   ]
  },
  {
   "cell_type": "code",
   "execution_count": 37,
   "id": "2f6f57ff",
   "metadata": {},
   "outputs": [],
   "source": [
    "dictionary = dict(zip(base_sorted,list(range(len(base_sorted)))))\n",
    "dictionary_inv = dict(zip(list(range(len(base_sorted))),base_sorted))"
   ]
  },
  {
   "cell_type": "code",
   "execution_count": 39,
   "id": "d025a76b",
   "metadata": {},
   "outputs": [],
   "source": [
    "for i in range(len(pairs)):\n",
    "    pairs[i][0] = dictionary.get(pairs[i][0])\n",
    "    pairs[i][1] = dictionary.get(pairs[i][1])"
   ]
  },
  {
   "cell_type": "code",
   "execution_count": 40,
   "id": "ada5746c",
   "metadata": {},
   "outputs": [],
   "source": [
    "for i in range(len(values)):\n",
    "    pairs[i].append(values[i])"
   ]
  },
  {
   "cell_type": "code",
   "execution_count": 41,
   "id": "f8b751a5",
   "metadata": {},
   "outputs": [],
   "source": [
    "archive = open('nomes_pesc_md_2020_formated.txt','w')\n",
    "archive.write(f'{len(dictionary)} 10\\n')\n",
    "for line in range(len(pairs)):\n",
    "    if(line == len(pairs)-1):\n",
    "        archive.write(f'{pairs[line][0]} {pairs[line][1]} {pairs[line][2]}')\n",
    "    else:\n",
    "        archive.write(f'{pairs[line][0]} {pairs[line][1]} {pairs[line][2]}\\n')\n",
    "archive.close()"
   ]
  },
  {
   "cell_type": "markdown",
   "id": "230ecc57",
   "metadata": {},
   "source": [
    "# Depois de executado o SA, recuperar os alunos dos grupos"
   ]
  },
  {
   "cell_type": "code",
   "execution_count": 42,
   "id": "21fd5d1d",
   "metadata": {},
   "outputs": [],
   "source": [
    "import numpy as np"
   ]
  },
  {
   "cell_type": "code",
   "execution_count": 43,
   "id": "ef081056",
   "metadata": {},
   "outputs": [
    {
     "name": "stdout",
     "output_type": "stream",
     "text": [
      "[0, 6, 3, 7, 5, 9, 2, 5, 0, 6, 2, 8, 6, 9, 3, 1, 2, 7, 4, 4, 8, 0, 5, 9, 3, 8, 4, 2, 5, 3, 1, 0, 8, 4, 1, 7, 0, 7, 9, 6, 3, 9, 1, 2, 1, 6, 4, 8, 7, 5]\n"
     ]
    }
   ],
   "source": [
    "with open('grupo_alunos.txt', 'r') as file:\n",
    "    sa_groups = list(map(lambda x: int(x),file.read().replace('[',\"\").replace(']',\"\").replace(\" \",\"\").split(\",\")))\n",
    "    print(sa_groups)"
   ]
  },
  {
   "cell_type": "code",
   "execution_count": 45,
   "id": "e8137760",
   "metadata": {
    "scrolled": true
   },
   "outputs": [],
   "source": [
    "groups_numbers = np.unique(sa_groups)\n",
    "groups = []\n",
    "\n",
    "for i in groups_numbers:\n",
    "    name_list = []\n",
    "    for aluno in list(np.where(np.array(sa_groups)==i)[0]):\n",
    "        name_list.append(dictionary_inv.get(aluno))\n",
    "    groups.append(name_list)"
   ]
  },
  {
   "cell_type": "code",
   "execution_count": 46,
   "id": "a55920df",
   "metadata": {},
   "outputs": [
    {
     "data": {
      "text/plain": [
       "[['Alessandra Costa Sinesio',\n",
       "  'Bruno Pedraca de Souza',\n",
       "  'Gabriel Martins de Oliveira Costa',\n",
       "  'Luiz Claudio Sampaio Ramos',\n",
       "  'Matheus Nunes Adauto'],\n",
       " ['Diego Jesus da Costa Moreira',\n",
       "  'Luis Armando Quintanilla Villon',\n",
       "  'Mariana Martins Ferreira da Cruz',\n",
       "  'Stanley Cortes de Sousa',\n",
       "  'Vilma Bezerra Alves'],\n",
       " ['Bruno Lima Cardoso',\n",
       "  'Cleiton Moya de Almeida',\n",
       "  'Douglas Castro da Silva',\n",
       "  'Liliane Neves de Oliveira Kunstmann',\n",
       "  'Tiago Carvalho Gomes Montalvao'],\n",
       " ['Alexandre Luis Batista da Silva',\n",
       "  'Diego Cardoso Borda Castro',\n",
       "  'Joanna Carolina Manjarres Meneses',\n",
       "  'Lucas de Andrade',\n",
       "  'Rodrigo Pereira Pagliusi'],\n",
       " ['Farmy Goncalves Ferreira da Silva',\n",
       "  'Felipe Crispim Fragoso',\n",
       "  'Leonardo Rosas Leal',\n",
       "  'Luiz Marcio Faria de Aquino Viana',\n",
       "  'Vinicius Junqueira Schettino'],\n",
       " ['Amanda Ferreira de Azevedo',\n",
       "  'Bruno Monteiro Accioli da Silva',\n",
       "  'Gabriel dos Santos Vieira',\n",
       "  'Lincoln Magalhaes Costa',\n",
       "  'Vitor de Castro Paes'],\n",
       " ['Alexandre Donnelly Vaz',\n",
       "  'Bruno Ramos Lima Netto',\n",
       "  'Debora Barbosa Pina',\n",
       "  'Rafael Almeida da Costa Schneider',\n",
       "  'Vinicius Garcia Silva da Costa'],\n",
       " ['Amanda Camacho Novaes de Oliveira',\n",
       "  'Ericson Jose da Silva Soares',\n",
       "  'Matheus Lima Scramignon',\n",
       "  'Pedro Paulo Goncalves Neto',\n",
       "  'Vitor Carneiro Maia'],\n",
       " ['Daniel Atkinson Oliveira',\n",
       "  'Fernando Novaes Ribeiro da Silva',\n",
       "  'Joao Carmo de Almeida Neto',\n",
       "  'Luiz Henrique Silva Hoffmann',\n",
       "  'Vitor Brandao Sabbagh'],\n",
       " ['Ana Luisa Souza Castanheira da Cruz',\n",
       "  'Diego Amaro Ferraz da Costa',\n",
       "  'Gilson Martins Coelho Filho',\n",
       "  'Rachel Vital Simoes',\n",
       "  'Rodrigo de Sapienza Luna']]"
      ]
     },
     "execution_count": 46,
     "metadata": {},
     "output_type": "execute_result"
    }
   ],
   "source": [
    "groups"
   ]
  }
 ],
 "metadata": {
  "kernelspec": {
   "display_name": "Python 3 (ipykernel)",
   "language": "python",
   "name": "python3"
  },
  "language_info": {
   "codemirror_mode": {
    "name": "ipython",
    "version": 3
   },
   "file_extension": ".py",
   "mimetype": "text/x-python",
   "name": "python",
   "nbconvert_exporter": "python",
   "pygments_lexer": "ipython3",
   "version": "3.9.6"
  }
 },
 "nbformat": 4,
 "nbformat_minor": 5
}
