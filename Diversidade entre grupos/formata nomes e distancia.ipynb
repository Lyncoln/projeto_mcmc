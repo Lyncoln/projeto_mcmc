{
 "cells": [
  {
   "cell_type": "code",
   "execution_count": 92,
   "id": "dc4915b6",
   "metadata": {},
   "outputs": [],
   "source": [
    "import os\n",
    "import string\n",
    "import jellyfish as jf"
   ]
  },
  {
   "cell_type": "code",
   "execution_count": 9,
   "id": "1eda15b3",
   "metadata": {},
   "outputs": [],
   "source": [
    "path = os.getcwd() + '\\\\nomes_pesc_md_2020.txt'"
   ]
  },
  {
   "cell_type": "code",
   "execution_count": 39,
   "id": "20b71885",
   "metadata": {},
   "outputs": [],
   "source": [
    "base = []\n",
    "for line in open(path):\n",
    "    base.append(''.join(x for x in line if x in string.printable).replace('\\n',\"\"))"
   ]
  },
  {
   "cell_type": "code",
   "execution_count": 41,
   "id": "3f3d80d5",
   "metadata": {},
   "outputs": [],
   "source": [
    "base_sorted = []\n",
    "for x in sorted(base):\n",
    "    base_sorted.append(x)"
   ]
  },
  {
   "cell_type": "code",
   "execution_count": 60,
   "id": "2ca32e2e",
   "metadata": {},
   "outputs": [],
   "source": [
    "cont = 1\n",
    "pairs = []\n",
    "for i in base_sorted:\n",
    "    for j in base_sorted[cont:]:\n",
    "        pairs.append([i,j])\n",
    "    cont+=1"
   ]
  },
  {
   "cell_type": "code",
   "execution_count": 99,
   "id": "c9aaee06",
   "metadata": {},
   "outputs": [],
   "source": [
    "values = list(map(lambda x: jf.levenshtein_distance(x[0],x[1]),pairs))"
   ]
  },
  {
   "cell_type": "code",
   "execution_count": 90,
   "id": "2f6f57ff",
   "metadata": {},
   "outputs": [],
   "source": [
    "dictionary = dict(zip(base_sorted,list(range(len(base_sorted)))))"
   ]
  },
  {
   "cell_type": "code",
   "execution_count": 121,
   "id": "d025a76b",
   "metadata": {},
   "outputs": [],
   "source": [
    "for i in range(len(pairs)):\n",
    "    pairs[i][0] = dictionary.get(pairs[i][0])\n",
    "    pairs[i][1] = dictionary.get(pairs[i][1])"
   ]
  },
  {
   "cell_type": "code",
   "execution_count": 124,
   "id": "f239dedc",
   "metadata": {},
   "outputs": [],
   "source": [
    "for i in range(len(values)):\n",
    "    pairs[i].append(values[i])"
   ]
  },
  {
   "cell_type": "code",
   "execution_count": 137,
   "id": "de92e7eb",
   "metadata": {},
   "outputs": [],
   "source": [
    "archive = open('nomes_pesc_md_2020_formated.txt','w')\n",
    "archive.write(f'{len(dictionary)} 10\\n')\n",
    "for line in range(len(pairs)):\n",
    "    if(line == len(pairs)-1):\n",
    "        archive.write(f'{pairs[line][0]} {pairs[line][1]} {pairs[line][2]}')\n",
    "    else:\n",
    "        archive.write(f'{pairs[line][0]} {pairs[line][1]} {pairs[line][2]}\\n')\n",
    "archive.close()"
   ]
  }
 ],
 "metadata": {
  "kernelspec": {
   "display_name": "Python 3 (ipykernel)",
   "language": "python",
   "name": "python3"
  },
  "language_info": {
   "codemirror_mode": {
    "name": "ipython",
    "version": 3
   },
   "file_extension": ".py",
   "mimetype": "text/x-python",
   "name": "python",
   "nbconvert_exporter": "python",
   "pygments_lexer": "ipython3",
   "version": "3.9.6"
  }
 },
 "nbformat": 4,
 "nbformat_minor": 5
}
