{
 "cells": [
  {
   "cell_type": "code",
   "execution_count": 1,
   "id": "ca351e50",
   "metadata": {},
   "outputs": [],
   "source": [
    "from MDGP.mdgp import MDGP\n",
    "import pandas as pd\n",
    "import os\n",
    "import numpy as np\n",
    "import random\n",
    "import time\n",
    "random.seed(26072021)"
   ]
  },
  {
   "cell_type": "code",
   "execution_count": 2,
   "id": "9ab836aa",
   "metadata": {},
   "outputs": [],
   "source": [
    "def read_objects(file):\n",
    "    aux = True\n",
    "    data = []\n",
    "    for line in open(file,'r'):\n",
    "        if(aux):\n",
    "            aux = False\n",
    "            first_line = list(map(lambda x: float(x), (line.replace(' \\n',\"\").split(\" \")[0:2])))\n",
    "        else:\n",
    "            data.append(list(map(lambda x: float(x), ((line.replace('\\n','').split(' '))))))\n",
    "            \n",
    "    return(first_line, data)\n",
    "\n",
    "def cost_matrix(dados,n):\n",
    "    n = int(n)\n",
    "    matrix = np.zeros((n,n))\n",
    "    for index in data:\n",
    "        i = int(index[0])\n",
    "        j = int(index[1])\n",
    "        matrix[i][j] = index[2]\n",
    "        matrix[j][i] = index[2]\n",
    "    \n",
    "    return(matrix)"
   ]
  },
  {
   "cell_type": "code",
   "execution_count": 3,
   "id": "13f2c2d3",
   "metadata": {},
   "outputs": [],
   "source": [
    "TMin = 0.0001\n",
    "T0 = 100000"
   ]
  },
  {
   "cell_type": "markdown",
   "id": "c3e7df83",
   "metadata": {},
   "source": [
    "## GEO"
   ]
  },
  {
   "cell_type": "code",
   "execution_count": 4,
   "id": "5df4e5e4",
   "metadata": {
    "scrolled": true
   },
   "outputs": [
    {
     "name": "stdout",
     "output_type": "stream",
     "text": [
      "G:\\GitHub\\projeto_mcmc\\Diversidade entre grupos/mdgplib/Geo/Geo_n010_ss_06.txt\n",
      "['Geo/Geo_n010_ss_06.txt', 1161.773, 1161.7729999999997, 1161.773, 1161.7729999999997]\n",
      "G:\\GitHub\\projeto_mcmc\\Diversidade entre grupos/mdgplib/Geo/Geo_n012_ss_06.txt\n",
      "['Geo/Geo_n012_ss_06.txt', 1482.2840000000003, 1423.301, 1482.2840000000003, 1444.772]\n",
      "G:\\GitHub\\projeto_mcmc\\Diversidade entre grupos/mdgplib/Geo/Geo_n030_ss_06.txt\n",
      "['Geo/Geo_n030_ss_06.txt', 14329.839999999993, 13830.737999999998, 14053.650000000003, 14260.176999999998]\n",
      "G:\\GitHub\\projeto_mcmc\\Diversidade entre grupos/mdgplib/Geo/Geo_n060_ss_06.txt\n",
      "['Geo/Geo_n060_ss_06.txt', 25174.107, 24181.36200000002, 24734.589999999982, 25138.052]\n",
      "G:\\GitHub\\projeto_mcmc\\Diversidade entre grupos/mdgplib/Geo/Geo_n120_ss_06.txt\n",
      "['Geo/Geo_n120_ss_06.txt', 125191.34300000002, 121848.72999999985, 123256.24600000017, 125078.4569999999]\n",
      "G:\\GitHub\\projeto_mcmc\\Diversidade entre grupos/mdgplib/Geo/Geo_n240_ss_06.txt\n",
      "['Geo/Geo_n240_ss_06.txt', 338182.4880000005, 330271.33000000083, 333974.61799999984, 337870.1890000001]\n",
      "G:\\GitHub\\projeto_mcmc\\Diversidade entre grupos/mdgplib/Geo/Geo_n480_ss_06.txt\n",
      "['Geo/Geo_n480_ss_06.txt', 965385.1100000028, 948025.4530000001, 954253.5079999991, 964595.6149999998]\n"
     ]
    }
   ],
   "source": [
    "data_compare_geo = pd.read_excel('compare/geo.xlsx')\n",
    "data_to_append = pd.DataFrame(columns=[\"Data_Set\",\"SA_alpha\",\"SA_exp\",\"SA_lin\",\"SA_log\"])\n",
    "time_compare = pd.DataFrame(columns=[\"Data_Set\",\"SA_alpha\",\"SA_exp\",\"SA_lin\",\"SA_log\"])\n",
    "for archive in data_compare_geo.Data_Set:\n",
    "    path = os.getcwd()+'/mdgplib/'+archive\n",
    "    print(path)\n",
    "    first_line, data = read_objects(path)\n",
    "    n = first_line[0]\n",
    "    g = first_line[1]\n",
    "    cost = cost_matrix(data,n)\n",
    "    mdgp = MDGP(cost, int(g))\n",
    "    schedules = [\n",
    "    {'cooling_function': 'alpha', 'cooling_schedule': mdgp.alpha_schedule(T0, TMin, 1000, 0.95)},\n",
    "    {'cooling_function': 'exponential', 'cooling_schedule': mdgp.exponential_schedule(T0, TMin, 0.5)},\n",
    "    {'cooling_function': 'linear', 'cooling_schedule': mdgp.linear_schedule(T0, TMin, 0.9)},\n",
    "    {'cooling_function': 'log', 'cooling_schedule': mdgp.log_schedule(TMin, 0.001, 0.0001)}\n",
    "    ]\n",
    "    time_values = [archive]\n",
    "    for schedule_data in schedules:\n",
    "        start_time = time.time()\n",
    "        best_cost, best = mdgp.simulated_annealing(schedule_data['cooling_schedule'])\n",
    "        schedule_data['best_cost'] = best_cost\n",
    "        schedule_data['best_group_division'] = best\n",
    "        time_values.append(time.time() - start_time)\n",
    "        \n",
    "    results = pd.DataFrame(schedules)\n",
    "    \n",
    "    values =list(results.best_cost)\n",
    "    values.insert(0,archive)\n",
    "    print(values)\n",
    "    data_to_append.loc[-1] = values\n",
    "    data_to_append = data_to_append.reset_index(drop=True)\n",
    "    \n",
    "    time_compare.loc[-1] = time_values\n",
    "    time_compare = time_compare.reset_index(drop=True)\n",
    "\n",
    "data_to_save = data_compare_geo.merge(data_to_append, left_on='Data_Set', right_on='Data_Set')"
   ]
  },
  {
   "cell_type": "code",
   "execution_count": 5,
   "id": "d3de0a54",
   "metadata": {},
   "outputs": [],
   "source": [
    "time_compare.to_csv('compared/complete/geo_time.csv')\n",
    "data_to_save.to_csv('compared/complete/geo.csv')"
   ]
  },
  {
   "cell_type": "markdown",
   "id": "9dbb7c6e",
   "metadata": {},
   "source": [
    "## RANINT"
   ]
  },
  {
   "cell_type": "code",
   "execution_count": 6,
   "id": "4adf1213",
   "metadata": {},
   "outputs": [
    {
     "name": "stdout",
     "output_type": "stream",
     "text": [
      "G:\\GitHub\\projeto_mcmc\\Diversidade entre grupos/mdgplib/RanInt/RanInt_n010_ss_06.txt\n",
      "['RanInt/RanInt_n010_ss_06.txt', 1228.0, 1221.0, 1228.0, 1228.0]\n",
      "G:\\GitHub\\projeto_mcmc\\Diversidade entre grupos/mdgplib/RanInt/RanInt_n012_ss_06.txt\n",
      "['RanInt/RanInt_n012_ss_06.txt', 1000.0, 984.0, 1000.0, 1000.0]\n",
      "G:\\GitHub\\projeto_mcmc\\Diversidade entre grupos/mdgplib/RanInt/RanInt_n030_ss_06.txt\n",
      "['RanInt/RanInt_n030_ss_06.txt', 5179.0, 3897.0, 4614.0, 4990.0]\n",
      "G:\\GitHub\\projeto_mcmc\\Diversidade entre grupos/mdgplib/RanInt/RanInt_n060_ss_06.txt\n",
      "['RanInt/RanInt_n060_ss_06.txt', 18555.0, 13966.0, 16443.0, 18377.0]\n",
      "G:\\GitHub\\projeto_mcmc\\Diversidade entre grupos/mdgplib/RanInt/RanInt_n120_ss_06.txt\n",
      "['RanInt/RanInt_n120_ss_06.txt', 45656.0, 33698.0, 37655.0, 45058.0]\n",
      "G:\\GitHub\\projeto_mcmc\\Diversidade entre grupos/mdgplib/RanInt/RanInt_n240_ss_06.txt\n",
      "['RanInt/RanInt_n240_ss_06.txt', 150269.0, 115540.0, 125834.0, 145489.0]\n",
      "G:\\GitHub\\projeto_mcmc\\Diversidade entre grupos/mdgplib/RanInt/RanInt_n480_ss_06.txt\n",
      "['RanInt/RanInt_n480_ss_06.txt', 363561.0, 280646.0, 298838.0, 347787.0]\n"
     ]
    }
   ],
   "source": [
    "random.seed(26072021)\n",
    "data_compare_ranint = pd.read_excel('compare/ranint.xlsx')\n",
    "data_to_append = pd.DataFrame(columns=[\"Data_Set\",\"SA_alpha\",\"SA_exp\",\"SA_lin\",\"SA_log\"])\n",
    "time_compare = pd.DataFrame(columns=[\"Data_Set\",\"SA_alpha\",\"SA_exp\",\"SA_lin\",\"SA_log\"])\n",
    "for archive in data_compare_ranint.Data_Set:\n",
    "    path = os.getcwd()+'/mdgplib/'+archive\n",
    "    print(path)\n",
    "    first_line, data = read_objects(path)\n",
    "    n = first_line[0]\n",
    "    g = first_line[1]\n",
    "    cost = cost_matrix(data,n)\n",
    "    mdgp = MDGP(cost, int(g))\n",
    "    schedules = [\n",
    "    {'cooling_function': 'alpha', 'cooling_schedule': mdgp.alpha_schedule(T0, TMin, 1000, 0.95)},\n",
    "    {'cooling_function': 'exponential', 'cooling_schedule': mdgp.exponential_schedule(T0, TMin, 0.5)},\n",
    "    {'cooling_function': 'linear', 'cooling_schedule': mdgp.linear_schedule(T0, TMin, 0.9)},\n",
    "    {'cooling_function': 'log', 'cooling_schedule': mdgp.log_schedule(TMin, 0.001, 0.0001)}\n",
    "    ]\n",
    "    time_values = [archive]\n",
    "    for schedule_data in schedules:\n",
    "        start_time = time.time()\n",
    "        best_cost, best = mdgp.simulated_annealing(schedule_data['cooling_schedule'])\n",
    "        schedule_data['best_cost'] = best_cost\n",
    "        schedule_data['best_group_division'] = best\n",
    "        time_values.append(time.time() - start_time)\n",
    "    \n",
    "    results = pd.DataFrame(schedules)\n",
    "    \n",
    "    values =list(results.best_cost)\n",
    "    values.insert(0,archive)\n",
    "    print(values)\n",
    "    data_to_append.loc[-1] = values\n",
    "    data_to_append = data_to_append.reset_index(drop=True)\n",
    "    \n",
    "    time_compare.loc[-1] = time_values\n",
    "    time_compare = time_compare.reset_index(drop=True)\n",
    "\n",
    "data_to_save = data_compare_ranint.merge(data_to_append, left_on='Data_Set', right_on='Data_Set')"
   ]
  },
  {
   "cell_type": "code",
   "execution_count": 7,
   "id": "2318ade4",
   "metadata": {},
   "outputs": [],
   "source": [
    "time_compare.to_csv('compared/complete/ranint_time.csv')\n",
    "data_to_save.to_csv('compared/complete/ranint.csv')"
   ]
  },
  {
   "cell_type": "markdown",
   "id": "b6941cb6",
   "metadata": {},
   "source": [
    "## RANREAL"
   ]
  },
  {
   "cell_type": "code",
   "execution_count": 8,
   "id": "9f07af26",
   "metadata": {},
   "outputs": [
    {
     "name": "stdout",
     "output_type": "stream",
     "text": [
      "G:\\GitHub\\projeto_mcmc\\Diversidade entre grupos/mdgplib/RanReal/RanReal_n010_ss_06.txt\n",
      "['RanReal/RanReal_n010_ss_06.txt', 1153.935, 1147.1229999999998, 1153.935, 1153.9349999999997]\n",
      "G:\\GitHub\\projeto_mcmc\\Diversidade entre grupos/mdgplib/RanReal/RanReal_n012_ss_06.txt\n",
      "['RanReal/RanReal_n012_ss_06.txt', 937.3480000000002, 901.8480000000002, 937.3480000000002, 925.9980000000003]\n",
      "G:\\GitHub\\projeto_mcmc\\Diversidade entre grupos/mdgplib/RanReal/RanReal_n030_ss_06.txt\n",
      "['RanReal/RanReal_n030_ss_06.txt', 5476.078000000001, 4403.783000000001, 4636.290999999999, 5338.754000000002]\n",
      "G:\\GitHub\\projeto_mcmc\\Diversidade entre grupos/mdgplib/RanReal/RanReal_n060_ss_06.txt\n",
      "['RanReal/RanReal_n060_ss_06.txt', 18360.122000000007, 14850.426000000005, 15088.432000000004, 18390.353000000003]\n",
      "G:\\GitHub\\projeto_mcmc\\Diversidade entre grupos/mdgplib/RanReal/RanReal_n120_ss_06.txt\n",
      "['RanReal/RanReal_n120_ss_06.txt', 45461.503000000026, 34229.858999999975, 37875.23799999999, 44916.76700000003]\n",
      "G:\\GitHub\\projeto_mcmc\\Diversidade entre grupos/mdgplib/RanReal/RanReal_n240_ss_06.txt\n",
      "['RanReal/RanReal_n240_ss_06.txt', 150193.0479999999, 116679.36099999989, 126482.37000000002, 146620.49300000054]\n",
      "G:\\GitHub\\projeto_mcmc\\Diversidade entre grupos/mdgplib/RanReal/RanReal_n480_ss_06.txt\n",
      "['RanReal/RanReal_n480_ss_06.txt', 362331.94000000047, 279589.203, 295205.46800000034, 347112.60000000056]\n"
     ]
    }
   ],
   "source": [
    "random.seed(26072021)\n",
    "data_compare_ranreal = pd.read_excel('compare/ranreal.xlsx')\n",
    "data_to_append = pd.DataFrame(columns=[\"Data_Set\",\"SA_alpha\",\"SA_exp\",\"SA_lin\",\"SA_log\"])\n",
    "time_compare = pd.DataFrame(columns=[\"Data_Set\",\"SA_alpha\",\"SA_exp\",\"SA_lin\",\"SA_log\"])\n",
    "for archive in data_compare_ranreal.Data_Set:\n",
    "    path = os.getcwd()+'/mdgplib/'+archive\n",
    "    print(path)\n",
    "    first_line, data = read_objects(path)\n",
    "    n = first_line[0]\n",
    "    g = first_line[1]\n",
    "    cost = cost_matrix(data,n)\n",
    "    mdgp = MDGP(cost, int(g))\n",
    "    schedules = [\n",
    "    {'cooling_function': 'alpha', 'cooling_schedule': mdgp.alpha_schedule(T0, TMin, 1000, 0.95)},\n",
    "    {'cooling_function': 'exponential', 'cooling_schedule': mdgp.exponential_schedule(T0, TMin, 0.5)},\n",
    "    {'cooling_function': 'linear', 'cooling_schedule': mdgp.linear_schedule(T0, TMin, 0.9)},\n",
    "    {'cooling_function': 'log', 'cooling_schedule': mdgp.log_schedule(TMin, 0.001, 0.0001)}\n",
    "    ]\n",
    "    time_values = [archive]\n",
    "    for schedule_data in schedules:\n",
    "        start_time = time.time()\n",
    "        best_cost, best = mdgp.simulated_annealing(schedule_data['cooling_schedule'])\n",
    "        schedule_data['best_cost'] = best_cost\n",
    "        schedule_data['best_group_division'] = best\n",
    "        time_values.append(time.time() - start_time)\n",
    "    \n",
    "    results = pd.DataFrame(schedules)\n",
    "    \n",
    "    values =list(results.best_cost)\n",
    "    values.insert(0,archive)\n",
    "    print(values)\n",
    "    data_to_append.loc[-1] = values\n",
    "    data_to_append = data_to_append.reset_index(drop=True)\n",
    "    \n",
    "    time_compare.loc[-1] = time_values\n",
    "    time_compare = time_compare.reset_index(drop=True)\n",
    "\n",
    "data_to_save = data_compare_ranreal.merge(data_to_append, left_on='Data_Set', right_on='Data_Set')"
   ]
  },
  {
   "cell_type": "code",
   "execution_count": 9,
   "id": "99974b63",
   "metadata": {},
   "outputs": [],
   "source": [
    "time_compare.to_csv('compared/complete/ranreal_time.csv')\n",
    "data_to_save.to_csv('compared/complete/ranreal.csv')"
   ]
  }
 ],
 "metadata": {
  "kernelspec": {
   "display_name": "Python 3 (ipykernel)",
   "language": "python",
   "name": "python3"
  },
  "language_info": {
   "codemirror_mode": {
    "name": "ipython",
    "version": 3
   },
   "file_extension": ".py",
   "mimetype": "text/x-python",
   "name": "python",
   "nbconvert_exporter": "python",
   "pygments_lexer": "ipython3",
   "version": "3.9.6"
  }
 },
 "nbformat": 4,
 "nbformat_minor": 5
}
