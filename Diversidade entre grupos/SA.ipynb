{
 "cells": [
  {
   "cell_type": "code",
   "execution_count": 1,
   "id": "ca351e50",
   "metadata": {},
   "outputs": [],
   "source": [
    "from MDGP.mdgp import MDGP\n",
    "import pandas as pd\n",
    "import os\n",
    "import numpy as np\n",
    "import random\n",
    "random.seed(26072021)"
   ]
  },
  {
   "cell_type": "code",
   "execution_count": 2,
   "id": "9ab836aa",
   "metadata": {},
   "outputs": [],
   "source": [
    "def read_objects(file):\n",
    "    aux = True\n",
    "    data = []\n",
    "    for line in open(file,'r'):\n",
    "        if(aux):\n",
    "            aux = False\n",
    "            first_line = list(map(lambda x: float(x), (line.replace(' \\n',\"\").split(\" \")[0:2])))\n",
    "        else:\n",
    "            data.append(list(map(lambda x: float(x), ((line.replace('\\n','').split(' '))))))\n",
    "            \n",
    "    return(first_line, data)\n",
    "\n",
    "def cost_matrix(dados,n):\n",
    "    n = int(n)\n",
    "    matrix = np.zeros((n,n))\n",
    "    for index in data:\n",
    "        i = int(index[0])\n",
    "        j = int(index[1])\n",
    "        matrix[i][j] = index[2]\n",
    "        matrix[j][i] = index[2]\n",
    "    \n",
    "    return(matrix)"
   ]
  },
  {
   "cell_type": "code",
   "execution_count": 3,
   "id": "13f2c2d3",
   "metadata": {},
   "outputs": [],
   "source": [
    "TMin = 0.0001"
   ]
  },
  {
   "cell_type": "markdown",
   "id": "c3e7df83",
   "metadata": {},
   "source": [
    "## GEO"
   ]
  },
  {
   "cell_type": "code",
   "execution_count": 4,
   "id": "5df4e5e4",
   "metadata": {
    "scrolled": true
   },
   "outputs": [
    {
     "name": "stdout",
     "output_type": "stream",
     "text": [
      "G:\\GitHub\\projeto_mcmc\\Diversidade entre grupos/mdgplib/Geo/Geo_n010_ss_06.txt\n",
      "['Geo/Geo_n010_ss_06.txt', 1161.773, 1161.427, 1161.773, 1161.7729999999997]\n",
      "G:\\GitHub\\projeto_mcmc\\Diversidade entre grupos/mdgplib/Geo/Geo_n012_ss_06.txt\n",
      "['Geo/Geo_n012_ss_06.txt', 1482.284, 1442.662, 1477.2610000000002, 1472.9649999999997]\n",
      "G:\\GitHub\\projeto_mcmc\\Diversidade entre grupos/mdgplib/Geo/Geo_n030_ss_06.txt\n",
      "['Geo/Geo_n030_ss_06.txt', 14278.850000000006, 13650.196000000004, 14052.377000000002, 14191.680999999995]\n",
      "G:\\GitHub\\projeto_mcmc\\Diversidade entre grupos/mdgplib/Geo/Geo_n060_ss_06.txt\n",
      "['Geo/Geo_n060_ss_06.txt', 25155.949999999986, 24364.779000000002, 24810.90999999999, 25142.506999999994]\n",
      "G:\\GitHub\\projeto_mcmc\\Diversidade entre grupos/mdgplib/Geo/Geo_n120_ss_06.txt\n",
      "['Geo/Geo_n120_ss_06.txt', 125101.30900000002, 121177.41200000004, 123237.77900000007, 125124.96000000002]\n",
      "G:\\GitHub\\projeto_mcmc\\Diversidade entre grupos/mdgplib/Geo/Geo_n240_ss_06.txt\n",
      "['Geo/Geo_n240_ss_06.txt', 337950.03800000093, 330504.581, 334822.3809999993, 337914.2849999993]\n",
      "G:\\GitHub\\projeto_mcmc\\Diversidade entre grupos/mdgplib/Geo/Geo_n480_ss_06.txt\n",
      "['Geo/Geo_n480_ss_06.txt', 964771.0480000007, 946648.4859999974, 956245.3869999972, 964760.5199999997]\n"
     ]
    }
   ],
   "source": [
    "data_compare_geo = pd.read_excel('compare/geo.xlsx')\n",
    "data_to_append = pd.DataFrame(columns=[\"Data_Set\",\"SA_alpha\",\"SA_exp\",\"SA_lin\",\"SA_log\"])\n",
    "for archive in data_compare_geo.Data_Set:\n",
    "    path = os.getcwd()+'/mdgplib/'+archive\n",
    "    print(path)\n",
    "    first_line, data = read_objects(path)\n",
    "    n = first_line[0]\n",
    "    g = first_line[1]\n",
    "    cost = cost_matrix(data,n)\n",
    "    mdgp = MDGP(cost, int(g))\n",
    "    schedules = [\n",
    "    {'cooling_function': 'alpha', 'cooling_schedule': mdgp.alpha_schedule(10000, TMin, 100, 0.95)},\n",
    "    {'cooling_function': 'exponential', 'cooling_schedule': mdgp.exponential_schedule(10000, TMin, 0.5)},\n",
    "    {'cooling_function': 'linear', 'cooling_schedule': mdgp.linear_schedule(10000, TMin, 0.9)},\n",
    "    {'cooling_function': 'log', 'cooling_schedule': mdgp.log_schedule(TMin, 0.001, 10)}\n",
    "    ]\n",
    "    for schedule_data in schedules:\n",
    "        best_cost, best = mdgp.simulated_annealing(schedule_data['cooling_schedule'])\n",
    "        schedule_data['best_cost'] = best_cost\n",
    "        schedule_data['best_group_division'] = best\n",
    "    \n",
    "    results = pd.DataFrame(schedules)\n",
    "    \n",
    "    values =list(results.best_cost)\n",
    "    values.insert(0,archive)\n",
    "    print(values)\n",
    "    data_to_append.loc[-1] = values\n",
    "    data_to_append = data_to_append.reset_index(drop=True)\n",
    "\n",
    "data_to_save = data_compare_geo.merge(data_to_append, left_on='Data_Set', right_on='Data_Set')"
   ]
  },
  {
   "cell_type": "code",
   "execution_count": 5,
   "id": "d3de0a54",
   "metadata": {},
   "outputs": [],
   "source": [
    "data_to_save.to_csv('compared/complete/geo.csv')"
   ]
  },
  {
   "cell_type": "markdown",
   "id": "9dbb7c6e",
   "metadata": {},
   "source": [
    "## RANINT"
   ]
  },
  {
   "cell_type": "code",
   "execution_count": 6,
   "id": "4adf1213",
   "metadata": {},
   "outputs": [
    {
     "name": "stdout",
     "output_type": "stream",
     "text": [
      "G:\\GitHub\\projeto_mcmc\\Diversidade entre grupos/mdgplib/RanInt/RanInt_n010_ss_06.txt\n",
      "['RanInt/RanInt_n010_ss_06.txt', 1228.0, 1032.0, 1228.0, 1228.0]\n",
      "G:\\GitHub\\projeto_mcmc\\Diversidade entre grupos/mdgplib/RanInt/RanInt_n012_ss_06.txt\n",
      "['RanInt/RanInt_n012_ss_06.txt', 1000.0, 890.0, 1000.0, 909.0]\n",
      "G:\\GitHub\\projeto_mcmc\\Diversidade entre grupos/mdgplib/RanInt/RanInt_n030_ss_06.txt\n",
      "['RanInt/RanInt_n030_ss_06.txt', 5075.0, 4074.0, 4450.0, 5148.0]\n",
      "G:\\GitHub\\projeto_mcmc\\Diversidade entre grupos/mdgplib/RanInt/RanInt_n060_ss_06.txt\n",
      "['RanInt/RanInt_n060_ss_06.txt', 18328.0, 14029.0, 16364.0, 18050.0]\n",
      "G:\\GitHub\\projeto_mcmc\\Diversidade entre grupos/mdgplib/RanInt/RanInt_n120_ss_06.txt\n",
      "['RanInt/RanInt_n120_ss_06.txt', 44932.0, 33962.0, 36755.0, 44904.0]\n",
      "G:\\GitHub\\projeto_mcmc\\Diversidade entre grupos/mdgplib/RanInt/RanInt_n240_ss_06.txt\n",
      "['RanInt/RanInt_n240_ss_06.txt', 148772.0, 116960.0, 125194.0, 146177.0]\n",
      "G:\\GitHub\\projeto_mcmc\\Diversidade entre grupos/mdgplib/RanInt/RanInt_n480_ss_06.txt\n",
      "['RanInt/RanInt_n480_ss_06.txt', 348756.0, 275786.0, 299932.0, 346681.0]\n"
     ]
    }
   ],
   "source": [
    "data_compare_ranint = pd.read_excel('compare/ranint.xlsx')\n",
    "data_to_append = pd.DataFrame(columns=[\"Data_Set\",\"SA_alpha\",\"SA_exp\",\"SA_lin\",\"SA_log\"])\n",
    "for archive in data_compare_ranint.Data_Set:\n",
    "    path = os.getcwd()+'/mdgplib/'+archive\n",
    "    print(path)\n",
    "    first_line, data = read_objects(path)\n",
    "    n = first_line[0]\n",
    "    g = first_line[1]\n",
    "    cost = cost_matrix(data,n)\n",
    "    mdgp = MDGP(cost, int(g))\n",
    "    schedules = [\n",
    "    {'cooling_function': 'alpha', 'cooling_schedule': mdgp.alpha_schedule(10000, TMin, 100, 0.95)},\n",
    "    {'cooling_function': 'exponential', 'cooling_schedule': mdgp.exponential_schedule(10000, TMin, 0.5)},\n",
    "    {'cooling_function': 'linear', 'cooling_schedule': mdgp.linear_schedule(10000, TMin, 0.9)},\n",
    "    {'cooling_function': 'log', 'cooling_schedule': mdgp.log_schedule(TMin, 0.001, 1000)}\n",
    "    ]\n",
    "    for schedule_data in schedules:\n",
    "        best_cost, best = mdgp.simulated_annealing(schedule_data['cooling_schedule'])\n",
    "        schedule_data['best_cost'] = best_cost\n",
    "        schedule_data['best_group_division'] = best\n",
    "    \n",
    "    results = pd.DataFrame(schedules)\n",
    "    \n",
    "    values =list(results.best_cost)\n",
    "    values.insert(0,archive)\n",
    "    print(values)\n",
    "    data_to_append.loc[-1] = values\n",
    "    data_to_append = data_to_append.reset_index(drop=True)\n",
    "\n",
    "data_to_save = data_compare_ranint.merge(data_to_append, left_on='Data_Set', right_on='Data_Set')"
   ]
  },
  {
   "cell_type": "code",
   "execution_count": 7,
   "id": "2318ade4",
   "metadata": {},
   "outputs": [],
   "source": [
    "data_to_save.to_csv('compared/complete/ranint.csv')"
   ]
  },
  {
   "cell_type": "markdown",
   "id": "b6941cb6",
   "metadata": {},
   "source": [
    "## RANREAL"
   ]
  },
  {
   "cell_type": "code",
   "execution_count": 8,
   "id": "9f07af26",
   "metadata": {},
   "outputs": [
    {
     "name": "stdout",
     "output_type": "stream",
     "text": [
      "G:\\GitHub\\projeto_mcmc\\Diversidade entre grupos/mdgplib/RanReal/RanReal_n010_ss_06.txt\n",
      "['RanReal/RanReal_n010_ss_06.txt', 1153.935, 1147.1229999999998, 1153.935, 1153.935]\n",
      "G:\\GitHub\\projeto_mcmc\\Diversidade entre grupos/mdgplib/RanReal/RanReal_n012_ss_06.txt\n",
      "['RanReal/RanReal_n012_ss_06.txt', 937.3480000000002, 844.729, 937.3480000000002, 906.165]\n",
      "G:\\GitHub\\projeto_mcmc\\Diversidade entre grupos/mdgplib/RanReal/RanReal_n030_ss_06.txt\n",
      "['RanReal/RanReal_n030_ss_06.txt', 5432.793000000001, 4242.063999999999, 5002.8189999999995, 5462.082000000001]\n",
      "G:\\GitHub\\projeto_mcmc\\Diversidade entre grupos/mdgplib/RanReal/RanReal_n060_ss_06.txt\n",
      "['RanReal/RanReal_n060_ss_06.txt', 18343.31200000001, 14381.85699999999, 15747.839999999997, 18128.731000000007]\n",
      "G:\\GitHub\\projeto_mcmc\\Diversidade entre grupos/mdgplib/RanReal/RanReal_n120_ss_06.txt\n",
      "['RanReal/RanReal_n120_ss_06.txt', 44809.57699999999, 34408.063, 37036.18500000001, 44818.62599999999]\n",
      "G:\\GitHub\\projeto_mcmc\\Diversidade entre grupos/mdgplib/RanReal/RanReal_n240_ss_06.txt\n",
      "['RanReal/RanReal_n240_ss_06.txt', 147651.09399999992, 114624.88299999994, 127061.60599999984, 146645.3199999997]\n",
      "G:\\GitHub\\projeto_mcmc\\Diversidade entre grupos/mdgplib/RanReal/RanReal_n480_ss_06.txt\n",
      "['RanReal/RanReal_n480_ss_06.txt', 346535.9589999992, 281262.76999999967, 296076.61399999936, 347753.7910000007]\n"
     ]
    }
   ],
   "source": [
    "data_compare_ranreal = pd.read_excel('compare/ranreal.xlsx')\n",
    "data_to_append = pd.DataFrame(columns=[\"Data_Set\",\"SA_alpha\",\"SA_exp\",\"SA_lin\",\"SA_log\"])\n",
    "for archive in data_compare_ranreal.Data_Set:\n",
    "    path = os.getcwd()+'/mdgplib/'+archive\n",
    "    print(path)\n",
    "    first_line, data = read_objects(path)\n",
    "    n = first_line[0]\n",
    "    g = first_line[1]\n",
    "    cost = cost_matrix(data,n)\n",
    "    mdgp = MDGP(cost, int(g))\n",
    "    schedules = [\n",
    "    {'cooling_function': 'alpha', 'cooling_schedule': mdgp.alpha_schedule(10000, TMin, 100, 0.95)},\n",
    "    {'cooling_function': 'exponential', 'cooling_schedule': mdgp.exponential_schedule(10000, TMin, 0.5)},\n",
    "    {'cooling_function': 'linear', 'cooling_schedule': mdgp.linear_schedule(10000, TMin, 0.9)},\n",
    "    {'cooling_function': 'log', 'cooling_schedule': mdgp.log_schedule(TMin, 0.001, 1000)}\n",
    "    ]\n",
    "    for schedule_data in schedules:\n",
    "        best_cost, best = mdgp.simulated_annealing(schedule_data['cooling_schedule'])\n",
    "        schedule_data['best_cost'] = best_cost\n",
    "        schedule_data['best_group_division'] = best\n",
    "    \n",
    "    results = pd.DataFrame(schedules)\n",
    "    \n",
    "    values =list(results.best_cost)\n",
    "    values.insert(0,archive)\n",
    "    print(values)\n",
    "    data_to_append.loc[-1] = values\n",
    "    data_to_append = data_to_append.reset_index(drop=True)\n",
    "\n",
    "data_to_save = data_compare_ranreal.merge(data_to_append, left_on='Data_Set', right_on='Data_Set')"
   ]
  },
  {
   "cell_type": "code",
   "execution_count": 9,
   "id": "99974b63",
   "metadata": {},
   "outputs": [],
   "source": [
    "data_to_save.to_csv('compared/complete/ranreal.csv')"
   ]
  }
 ],
 "metadata": {
  "kernelspec": {
   "display_name": "Python 3 (ipykernel)",
   "language": "python",
   "name": "python3"
  },
  "language_info": {
   "codemirror_mode": {
    "name": "ipython",
    "version": 3
   },
   "file_extension": ".py",
   "mimetype": "text/x-python",
   "name": "python",
   "nbconvert_exporter": "python",
   "pygments_lexer": "ipython3",
   "version": "3.9.6"
  }
 },
 "nbformat": 4,
 "nbformat_minor": 5
}
