{
 "cells": [
  {
   "cell_type": "code",
   "execution_count": 8,
   "id": "ca351e50",
   "metadata": {},
   "outputs": [],
   "source": [
    "from MDGP.mdgp import MDGP\n",
    "import pandas as pd\n",
    "import os\n",
    "import numpy as np\n",
    "import random\n",
    "import time\n",
    "random.seed(26072021)"
   ]
  },
  {
   "cell_type": "code",
   "execution_count": 9,
   "id": "9ab836aa",
   "metadata": {},
   "outputs": [],
   "source": [
    "def read_objects(file):\n",
    "    aux = True\n",
    "    data = []\n",
    "    for line in open(file,'r'):\n",
    "        if(aux):\n",
    "            aux = False\n",
    "            first_line = list(map(lambda x: float(x), (line.replace(' \\n',\"\").split(\" \")[0:2])))\n",
    "        else:\n",
    "            data.append(list(map(lambda x: float(x), ((line.replace('\\n','').split(' '))))))\n",
    "            \n",
    "    return(first_line, data)\n",
    "\n",
    "def cost_matrix(dados,n):\n",
    "    n = int(n)\n",
    "    matrix = np.zeros((n,n))\n",
    "    for index in data:\n",
    "        i = int(index[0])\n",
    "        j = int(index[1])\n",
    "        matrix[i][j] = index[2]\n",
    "        matrix[j][i] = index[2]\n",
    "    \n",
    "    return(matrix)"
   ]
  },
  {
   "cell_type": "code",
   "execution_count": 10,
   "id": "13f2c2d3",
   "metadata": {},
   "outputs": [],
   "source": [
    "TMin = 0.0001\n",
    "T0 = 100000"
   ]
  },
  {
   "cell_type": "markdown",
   "id": "c3e7df83",
   "metadata": {},
   "source": [
    "## GEO"
   ]
  },
  {
   "cell_type": "code",
   "execution_count": 4,
   "id": "5df4e5e4",
   "metadata": {
    "scrolled": true
   },
   "outputs": [
    {
     "name": "stdout",
     "output_type": "stream",
     "text": [
      "G:\\GitHub\\projeto_mcmc\\Diversidade entre grupos/mdgplib/Geo/Geo_n010_ss_06.txt\n",
      "['Geo/Geo_n010_ss_06.txt', 1161.773, 1156.1299999999997, 1161.773, 1161.773]\n",
      "G:\\GitHub\\projeto_mcmc\\Diversidade entre grupos/mdgplib/Geo/Geo_n012_ss_06.txt\n",
      "['Geo/Geo_n012_ss_06.txt', 1482.2840000000003, 1401.991, 1482.284, 1482.2839999999999]\n",
      "G:\\GitHub\\projeto_mcmc\\Diversidade entre grupos/mdgplib/Geo/Geo_n030_ss_06.txt\n",
      "['Geo/Geo_n030_ss_06.txt', 14335.776000000003, 13840.699000000002, 14060.755999999998, 14319.014]\n",
      "G:\\GitHub\\projeto_mcmc\\Diversidade entre grupos/mdgplib/Geo/Geo_n060_ss_06.txt\n",
      "['Geo/Geo_n060_ss_06.txt', 25167.537, 24337.778000000006, 24800.164999999997, 25148.648000000012]\n",
      "G:\\GitHub\\projeto_mcmc\\Diversidade entre grupos/mdgplib/Geo/Geo_n120_ss_06.txt\n",
      "['Geo/Geo_n120_ss_06.txt', 125152.3949999999, 121422.46700000008, 122739.46900000014, 125040.95000000007]\n",
      "G:\\GitHub\\projeto_mcmc\\Diversidade entre grupos/mdgplib/Geo/Geo_n240_ss_06.txt\n",
      "['Geo/Geo_n240_ss_06.txt', 338277.27499999973, 329993.53300000064, 334858.9130000002, 337919.4440000007]\n",
      "G:\\GitHub\\projeto_mcmc\\Diversidade entre grupos/mdgplib/Geo/Geo_n480_ss_06.txt\n",
      "['Geo/Geo_n480_ss_06.txt', 965553.3359999987, 946907.2459999997, 955850.879999997, 964656.6650000014]\n"
     ]
    }
   ],
   "source": [
    "data_compare_geo = pd.read_excel('compare/geo.xlsx')\n",
    "data_to_append = pd.DataFrame(columns=[\"Data_Set\",\"SA_alpha\",\"SA_exp\",\"SA_lin\",\"SA_log\"])\n",
    "time_compare = pd.DataFrame(columns=[\"Data_Set\",\"SA_alpha\",\"SA_exp\",\"SA_lin\",\"SA_log\"])\n",
    "for archive in data_compare_geo.Data_Set:\n",
    "    path = os.getcwd()+'/mdgplib/'+archive\n",
    "    print(path)\n",
    "    first_line, data = read_objects(path)\n",
    "    n = first_line[0]\n",
    "    g = first_line[1]\n",
    "    cost = cost_matrix(data,n)\n",
    "    mdgp = MDGP(cost, int(g))\n",
    "    schedules = [\n",
    "    {'cooling_function': 'alpha', 'cooling_schedule': mdgp.alpha_schedule(T0, TMin, 1000, 0.95)},\n",
    "    {'cooling_function': 'exponential', 'cooling_schedule': mdgp.exponential_schedule(T0, TMin, 0.5)},\n",
    "    {'cooling_function': 'linear', 'cooling_schedule': mdgp.linear_schedule(T0, TMin, 0.9)},\n",
    "    {'cooling_function': 'log', 'cooling_schedule': mdgp.log_schedule(TMin, 0.001, 0.0001)}\n",
    "    ]\n",
    "    time_values = [archive]\n",
    "    for schedule_data in schedules:\n",
    "        start_time = time.time()\n",
    "        best_cost, best = mdgp.simulated_annealing(schedule_data['cooling_schedule'])\n",
    "        schedule_data['best_cost'] = best_cost\n",
    "        schedule_data['best_group_division'] = best\n",
    "        time_values.append(time.time() - start_time)\n",
    "        \n",
    "    results = pd.DataFrame(schedules)\n",
    "    \n",
    "    values =list(results.best_cost)\n",
    "    values.insert(0,archive)\n",
    "    print(values)\n",
    "    data_to_append.loc[-1] = values\n",
    "    data_to_append = data_to_append.reset_index(drop=True)\n",
    "    \n",
    "    time_compare.loc[-1] = time_values\n",
    "    time_compare = time_compare.reset_index(drop=True)\n",
    "\n",
    "data_to_save = data_compare_geo.merge(data_to_append, left_on='Data_Set', right_on='Data_Set')"
   ]
  },
  {
   "cell_type": "code",
   "execution_count": 5,
   "id": "d3de0a54",
   "metadata": {},
   "outputs": [],
   "source": [
    "time_compare.to_csv('compared/complete/geo_time.csv')\n",
    "data_to_save.to_csv('compared/complete/geo.csv')"
   ]
  },
  {
   "cell_type": "markdown",
   "id": "9dbb7c6e",
   "metadata": {},
   "source": [
    "## RANINT"
   ]
  },
  {
   "cell_type": "code",
   "execution_count": null,
   "id": "4adf1213",
   "metadata": {},
   "outputs": [
    {
     "name": "stdout",
     "output_type": "stream",
     "text": [
      "G:\\GitHub\\projeto_mcmc\\Diversidade entre grupos/mdgplib/RanInt/RanInt_n010_ss_06.txt\n",
      "['RanInt/RanInt_n010_ss_06.txt', 1228.0, 1117.0, 1228.0, 1228.0]\n",
      "G:\\GitHub\\projeto_mcmc\\Diversidade entre grupos/mdgplib/RanInt/RanInt_n012_ss_06.txt\n",
      "['RanInt/RanInt_n012_ss_06.txt', 1000.0, 819.0, 1000.0, 984.0]\n",
      "G:\\GitHub\\projeto_mcmc\\Diversidade entre grupos/mdgplib/RanInt/RanInt_n030_ss_06.txt\n",
      "['RanInt/RanInt_n030_ss_06.txt', 5179.0, 3954.0, 4448.0, 5194.0]\n",
      "G:\\GitHub\\projeto_mcmc\\Diversidade entre grupos/mdgplib/RanInt/RanInt_n060_ss_06.txt\n",
      "['RanInt/RanInt_n060_ss_06.txt', 18434.0, 14404.0, 16266.0, 18234.0]\n",
      "G:\\GitHub\\projeto_mcmc\\Diversidade entre grupos/mdgplib/RanInt/RanInt_n120_ss_06.txt\n"
     ]
    }
   ],
   "source": [
    "random.seed(26072021)\n",
    "data_compare_ranint = pd.read_excel('compare/ranint.xlsx')\n",
    "data_to_append = pd.DataFrame(columns=[\"Data_Set\",\"SA_alpha\",\"SA_exp\",\"SA_lin\",\"SA_log\"])\n",
    "time_compare = pd.DataFrame(columns=[\"Data_Set\",\"SA_alpha\",\"SA_exp\",\"SA_lin\",\"SA_log\"])\n",
    "for archive in data_compare_ranint.Data_Set:\n",
    "    path = os.getcwd()+'/mdgplib/'+archive\n",
    "    print(path)\n",
    "    first_line, data = read_objects(path)\n",
    "    n = first_line[0]\n",
    "    g = first_line[1]\n",
    "    cost = cost_matrix(data,n)\n",
    "    mdgp = MDGP(cost, int(g))\n",
    "    schedules = [\n",
    "    {'cooling_function': 'alpha', 'cooling_schedule': mdgp.alpha_schedule(T0, TMin, 1000, 0.95)},\n",
    "    {'cooling_function': 'exponential', 'cooling_schedule': mdgp.exponential_schedule(T0, TMin, 0.5)},\n",
    "    {'cooling_function': 'linear', 'cooling_schedule': mdgp.linear_schedule(T0, TMin, 0.9)},\n",
    "    {'cooling_function': 'log', 'cooling_schedule': mdgp.log_schedule(TMin, 0.001, 0.0001)}\n",
    "    ]\n",
    "    time_values = [archive]\n",
    "    for schedule_data in schedules:\n",
    "        start_time = time.time()\n",
    "        best_cost, best = mdgp.simulated_annealing(schedule_data['cooling_schedule'])\n",
    "        schedule_data['best_cost'] = best_cost\n",
    "        schedule_data['best_group_division'] = best\n",
    "        time_values.append(time.time() - start_time)\n",
    "    \n",
    "    results = pd.DataFrame(schedules)\n",
    "    \n",
    "    values =list(results.best_cost)\n",
    "    values.insert(0,archive)\n",
    "    print(values)\n",
    "    data_to_append.loc[-1] = values\n",
    "    data_to_append = data_to_append.reset_index(drop=True)\n",
    "    \n",
    "    time_compare.loc[-1] = time_values\n",
    "    time_compare = time_compare.reset_index(drop=True)\n",
    "\n",
    "data_to_save = data_compare_ranint.merge(data_to_append, left_on='Data_Set', right_on='Data_Set')"
   ]
  },
  {
   "cell_type": "code",
   "execution_count": null,
   "id": "2318ade4",
   "metadata": {},
   "outputs": [],
   "source": [
    "time_compare.to_csv('compared/complete/ranint_time.csv')\n",
    "data_to_save.to_csv('compared/complete/ranint.csv')"
   ]
  },
  {
   "cell_type": "markdown",
   "id": "b6941cb6",
   "metadata": {},
   "source": [
    "## RANREAL"
   ]
  },
  {
   "cell_type": "code",
   "execution_count": null,
   "id": "9f07af26",
   "metadata": {},
   "outputs": [],
   "source": [
    "random.seed(26072021)\n",
    "data_compare_ranreal = pd.read_excel('compare/ranreal.xlsx')\n",
    "data_to_append = pd.DataFrame(columns=[\"Data_Set\",\"SA_alpha\",\"SA_exp\",\"SA_lin\",\"SA_log\"])\n",
    "time_compare = pd.DataFrame(columns=[\"Data_Set\",\"SA_alpha\",\"SA_exp\",\"SA_lin\",\"SA_log\"])\n",
    "for archive in data_compare_ranreal.Data_Set:\n",
    "    path = os.getcwd()+'/mdgplib/'+archive\n",
    "    print(path)\n",
    "    first_line, data = read_objects(path)\n",
    "    n = first_line[0]\n",
    "    g = first_line[1]\n",
    "    cost = cost_matrix(data,n)\n",
    "    mdgp = MDGP(cost, int(g))\n",
    "    schedules = [\n",
    "    {'cooling_function': 'alpha', 'cooling_schedule': mdgp.alpha_schedule(T0, TMin, 1000, 0.95)},\n",
    "    {'cooling_function': 'exponential', 'cooling_schedule': mdgp.exponential_schedule(T0, TMin, 0.5)},\n",
    "    {'cooling_function': 'linear', 'cooling_schedule': mdgp.linear_schedule(T0, TMin, 0.9)},\n",
    "    {'cooling_function': 'log', 'cooling_schedule': mdgp.log_schedule(TMin, 0.001, 0.0001)}\n",
    "    ]\n",
    "    time_values = [archive]\n",
    "    for schedule_data in schedules:\n",
    "        start_time = time.time()\n",
    "        best_cost, best = mdgp.simulated_annealing(schedule_data['cooling_schedule'])\n",
    "        schedule_data['best_cost'] = best_cost\n",
    "        schedule_data['best_group_division'] = best\n",
    "        time_values.append(time.time() - start_time)\n",
    "    \n",
    "    results = pd.DataFrame(schedules)\n",
    "    \n",
    "    values =list(results.best_cost)\n",
    "    values.insert(0,archive)\n",
    "    print(values)\n",
    "    data_to_append.loc[-1] = values\n",
    "    data_to_append = data_to_append.reset_index(drop=True)\n",
    "    \n",
    "    time_compare.loc[-1] = time_values\n",
    "    time_compare = time_compare.reset_index(drop=True)\n",
    "\n",
    "data_to_save = data_compare_ranreal.merge(data_to_append, left_on='Data_Set', right_on='Data_Set')"
   ]
  },
  {
   "cell_type": "code",
   "execution_count": null,
   "id": "99974b63",
   "metadata": {},
   "outputs": [],
   "source": [
    "time_compare.to_csv('compared/complete/ranreal_time.csv')\n",
    "data_to_save.to_csv('compared/complete/ranreal.csv')"
   ]
  }
 ],
 "metadata": {
  "kernelspec": {
   "display_name": "Python 3 (ipykernel)",
   "language": "python",
   "name": "python3"
  },
  "language_info": {
   "codemirror_mode": {
    "name": "ipython",
    "version": 3
   },
   "file_extension": ".py",
   "mimetype": "text/x-python",
   "name": "python",
   "nbconvert_exporter": "python",
   "pygments_lexer": "ipython3",
   "version": "3.9.6"
  }
 },
 "nbformat": 4,
 "nbformat_minor": 5
}
